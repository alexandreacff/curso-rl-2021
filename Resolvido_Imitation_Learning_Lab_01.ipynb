{
  "nbformat": 4,
  "nbformat_minor": 0,
  "metadata": {
    "accelerator": "GPU",
    "colab": {
      "name": "Resolvido Imitation Learning - Lab 01",
      "provenance": [],
      "collapsed_sections": [],
      "include_colab_link": true
    },
    "kernelspec": {
      "display_name": "Python 3",
      "name": "python3"
    },
    "language_info": {
      "name": "python"
    }
  },
  "cells": [
    {
      "cell_type": "markdown",
      "metadata": {
        "id": "view-in-github",
        "colab_type": "text"
      },
      "source": [
        "<a href=\"https://colab.research.google.com/github/alexandreacff/curso-rl-2021/blob/main/Resolvido_Imitation_Learning_Lab_01.ipynb\" target=\"_parent\"><img src=\"https://colab.research.google.com/assets/colab-badge.svg\" alt=\"Open In Colab\"/></a>"
      ]
    },
    {
      "cell_type": "markdown",
      "metadata": {
        "id": "ZMawyLEW_AGn"
      },
      "source": [
        "# Imitation Learning - Lab 01\n",
        "\n",
        "O objetivo desta laboratório é experimentar a aprendizagem por imitação (imitation learning), em que o modelo (rede) aprende a imitar as ações de um especialista (humano). No lugar de experiências coletadas de um especialista humano, aqui as demonstrações serão fornecidas por meio de uma política de especialistas que treinamos para você. \n",
        "\n",
        "- Usaremos um tipo de aprendizado por imitação, conhecido como clonagem comportamental (behavioral cloning). Isso significa que treinaremos nossa rede de forma supervisionada.\n",
        "- A saída da rede é a política de direção, representada pelo ângulo de direção desejado e/ou aceleração ou frenagem. Por exemplo, podemos ter um neurônio de saída de regressão para o ângulo de direção e um neurônio para aceleração ou frenagem (já que não podemos ter os dois ao mesmo tempo).\n",
        "- A entrada da rede pode ser:\n",
        "Dados brutos do sensor. Por exemplo, uma imagem da câmera. \n",
        "- Criaremos o conjunto de dados de treinamento com a ajuda do especialista. Em cada etapa da jornada, iremos registrar:\n",
        "    - O estado atual do ambiente. Estes podem ser os dados brutos do sensor ou a representação da vista de cima para baixo. Usaremos o estado atual como entrada para o modelo.\n",
        "    - As ações do especialista no estado atual do ambiente (ângulo de direção, freio / aceleração). Esses serão os dados de destino da rede. Durante o treinamento, vamos minimizar o erro entre as previsões da rede e as ações usando gradient descent. Desta forma, ensinaremos a rede a imitar o especialista.\n",
        "\n",
        "<br>\n",
        "\n",
        "A seguir está uma ilustração do cenário de Behavioral Cloning:\n",
        "\n",
        "<br>\n",
        "\n",
        "<img src='https://drive.google.com/uc?id=1ozI1x1hNgIa_IXNsxUm4V-YFADXlKxus' width=\"600\" height=\"400\">\n"
      ]
    },
    {
      "cell_type": "markdown",
      "metadata": {
        "id": "xdeHy9MGAbO_"
      },
      "source": [
        "## Configuração\n",
        "\n",
        "\n",
        "Você precisará fazer uma cópia deste notebook em seu Google Drive antes de editar. Você pode fazer isso com **Arquivo → Salvar uma cópia no Drive**."
      ]
    },
    {
      "cell_type": "code",
      "metadata": {
        "colab": {
          "base_uri": "https://localhost:8080/"
        },
        "id": "8-CfOCXFoxd3",
        "outputId": "4bb41a4b-fa99-4300-8888-590a84e147e4"
      },
      "source": [
        "import os\n",
        "from google.colab import drive\n",
        "drive.mount(\"/content/gdrive\")"
      ],
      "execution_count": 1,
      "outputs": [
        {
          "output_type": "stream",
          "name": "stdout",
          "text": [
            "Mounted at /content/gdrive\n"
          ]
        }
      ]
    },
    {
      "cell_type": "code",
      "metadata": {
        "id": "-QKwdXhlAyiw"
      },
      "source": [
        "# Seu trabalho será armazenado em uma pasta chamada `minicurso_rl` por padrão \n",
        "# para evitar que o tempo limite da instância do Colab exclua suas edições\n",
        "\n",
        "\n",
        "DRIVE_PATH = \"/content/gdrive/My\\ Drive/minicurso_rl\"\n",
        "DRIVE_PYTHON_PATH = DRIVE_PATH.replace(\"\\\\\", \"\")\n",
        "if not os.path.exists(DRIVE_PYTHON_PATH):\n",
        "  %mkdir $DRIVE_PATH\n",
        "\n",
        "SYM_PATH = \"/content/minicurso_rl\"\n",
        "if not os.path.exists(SYM_PATH):\n",
        "  !ln -s $DRIVE_PATH $SYM_PATH"
      ],
      "execution_count": 2,
      "outputs": []
    },
    {
      "cell_type": "markdown",
      "metadata": {
        "id": "1eDEgSARy30b"
      },
      "source": [
        "Instalando as dependências"
      ]
    },
    {
      "cell_type": "code",
      "metadata": {
        "id": "L2V0MD29BoEr"
      },
      "source": [
        "!pip install -U cloudpickle > /dev/null 2>&1 \n",
        "!pip install \"gym[all]\" > /dev/null 2>&1 \n",
        "!pip install \"gym[box2d]\" > /dev/null 2>&1 \n",
        "!pip install \"stable-baselines3[extra]\" > /dev/null 2>&1 \n",
        "\n",
        "!apt-get install x11-utils > /dev/null 2>&1 \n",
        "!pip install pyglet > /dev/null 2>&1 \n",
        "!apt-get install -y xvfb python-opengl > /dev/null 2>&1\n",
        "\n",
        "!pip install pyvirtualdisplay > /dev/null 2>&1\n",
        "\n",
        "!pip install plotly > /dev/null 2>&1"
      ],
      "execution_count": 3,
      "outputs": []
    },
    {
      "cell_type": "code",
      "metadata": {
        "colab": {
          "base_uri": "https://localhost:8080/"
        },
        "id": "jnns06ycVXRs",
        "outputId": "a911a6b9-4c9f-41fa-e574-05eed68f8198"
      },
      "source": [
        "! wget http://www.atarimania.com/roms/Roms.rar\n",
        "! mkdir /content/ROM/\n",
        "! unrar e /content/Roms.rar /content/ROM/ -y\n",
        "! python -m atari_py.import_roms /content/ROM/ > /dev/null 2>&1"
      ],
      "execution_count": 4,
      "outputs": [
        {
          "output_type": "stream",
          "name": "stdout",
          "text": [
            "--2021-10-16 15:20:31--  http://www.atarimania.com/roms/Roms.rar\n",
            "Resolving www.atarimania.com (www.atarimania.com)... 195.154.81.199\n",
            "Connecting to www.atarimania.com (www.atarimania.com)|195.154.81.199|:80... connected.\n",
            "HTTP request sent, awaiting response... 200 OK\n",
            "Length: 11128004 (11M) [application/x-rar-compressed]\n",
            "Saving to: ‘Roms.rar’\n",
            "\n",
            "Roms.rar            100%[===================>]  10.61M   636KB/s    in 18s     \n",
            "\n",
            "2021-10-16 15:20:49 (614 KB/s) - ‘Roms.rar’ saved [11128004/11128004]\n",
            "\n",
            "\n",
            "UNRAR 5.50 freeware      Copyright (c) 1993-2017 Alexander Roshal\n",
            "\n",
            "\n",
            "Extracting from /content/Roms.rar\n",
            "\n",
            "Extracting  /content/ROM/HC ROMS.zip                                     \b\b\b\b 36%\b\b\b\b\b  OK \n",
            "Extracting  /content/ROM/ROMS.zip                                        \b\b\b\b 74%\b\b\b\b 99%\b\b\b\b\b  OK \n",
            "All OK\n"
          ]
        }
      ]
    },
    {
      "cell_type": "code",
      "metadata": {
        "id": "2GYJ_PX56rSR"
      },
      "source": [
        "import torch\n",
        "import random\n",
        "import numpy as np\n",
        "\n",
        "torch.manual_seed(10)\n",
        "random.seed(10)\n",
        "np.random.seed(10)"
      ],
      "execution_count": 5,
      "outputs": []
    },
    {
      "cell_type": "markdown",
      "metadata": {
        "id": "0K8iccKbF754"
      },
      "source": [
        "# Ambiente\n",
        "\n",
        "O ambiente utilizado será o Enduro-v0, um ambiente [OpenAI Gym](https://gym.openai.com/envs/Enduro-v0/) de corrida.\n",
        "\n",
        "[Gym](https://gym.openai.com/docs/) é um kit de ferramentas para desenvolver e comparar algoritmos de aprendizagem por reforço. Ele não faz suposições sobre a estrutura do seu agente e é compatível com qualquer biblioteca de computação numérica.\n",
        "\n",
        "O estado do ambiente Enduro consiste em 210x160 pixels.Uma recompensa de +1 é dada para cada carro ultrapassado e -1 para cada carro que passa pelo agente (mas a recompensa mínima é 0).\n",
        "\n",
        "O objetivo consiste em manobrar um carro de corrida no National Enduro, uma corrida de resistência de longa distância. O objetivo da corrida é passar um certo número de carros a cada dia. Isso permitirá que o jogador continue correndo no dia seguinte. O piloto deve evitar outros pilotos e ultrapassar 200 carros no primeiro dia e 300 carros em cada dia seguinte.\n",
        "\n",
        "Conforme o tempo passa, a visibilidade também muda. Quando é noite no jogo, o jogador só pode ver as luzes traseiras dos carros que se aproximam. Com o passar dos dias, os carros também se tornarão mais difíceis de evitar. O clima e a hora do dia são fatores importantes para jogar. Durante o dia, o jogador pode dirigir por um trecho de gelo na estrada que limitaria o controle do veículo, ou um trecho de neblina pode reduzir a visibilidade.\n",
        "\n",
        "[Descrição da Wikipedia](https://en.wikipedia.org/wiki/Enduro_%28video_game%29)"
      ]
    },
    {
      "cell_type": "code",
      "metadata": {
        "id": "1e2x7FjtERCk"
      },
      "source": [
        "# Procedimento para renderizar o ambiente no Google Colab\n",
        "\n",
        "from pyvirtualdisplay import Display\n",
        "display = Display(visible=0, size=(1024, 768))\n",
        "display.start()\n",
        "\n",
        "\n",
        "from matplotlib import pyplot as plt, animation\n",
        "%matplotlib inline\n",
        "from IPython import display\n",
        "\n",
        "def create_anim(frames, dpi, fps):\n",
        "    plt.figure(figsize=(frames[0].shape[1] / dpi, frames[0].shape[0] / dpi), dpi=dpi)\n",
        "    patch = plt.imshow(frames[0])\n",
        "    def setup():\n",
        "        plt.axis('off')\n",
        "    def animate(i):\n",
        "        patch.set_data(frames[i])\n",
        "    anim = animation.FuncAnimation(plt.gcf(), animate, init_func=setup, frames=len(frames), interval=fps)\n",
        "    return anim\n",
        "\n",
        "def display_anim(frames, dpi=72, fps=60):\n",
        "    anim = create_anim(frames, dpi, fps)\n",
        "    return anim.to_jshtml()\n",
        "\n",
        "def save_anim(frames, filename, dpi=72, fps=50):\n",
        "    anim = create_anim(frames, dpi, fps)\n",
        "    anim.save(filename)\n",
        "\n",
        "\n",
        "class trigger:\n",
        "    def __init__(self):\n",
        "        self._trigger = True\n",
        "\n",
        "    def __call__(self, e):\n",
        "        return self._trigger\n",
        "\n",
        "    def set(self, t):\n",
        "        self._trigger = t"
      ],
      "execution_count": 6,
      "outputs": []
    },
    {
      "cell_type": "markdown",
      "metadata": {
        "id": "u7foeM827r6I"
      },
      "source": [
        "Interagimos no ambiente através da função `step`, que nos retorna quatro valores: observação, recompensa, done, info. Esta é uma implementação do clássico “loop agente-ambiente”. A cada passo de tempo, o agente escolhe uma ação e o ambiente retorna uma observação e a recompensa.\n",
        "<br>\n",
        "\n",
        "<img src='https://drive.google.com/uc?id=1TXdjYkbfm2EvtCbVIpe5BkUgXJY1d1zE' width=\"600\" height=\"250\">"
      ]
    },
    {
      "cell_type": "code",
      "metadata": {
        "id": "j7pkNyBjzMy1"
      },
      "source": [
        "import gym\n",
        "environment_id = \"EnduroNoFrameskip-v4\"       # Nome do ambiente utilizado"
      ],
      "execution_count": 7,
      "outputs": []
    },
    {
      "cell_type": "code",
      "metadata": {
        "colab": {
          "base_uri": "https://localhost:8080/"
        },
        "id": "--EwWyyKEN4P",
        "outputId": "00a99d87-9a99-4bb5-9bec-f7a36e617b13"
      },
      "source": [
        "env = gym.make(environment_id)                # Criando o ambiente\n",
        "\n",
        "frames = []\n",
        "episodes = 1\n",
        "for episode in range(1, episodes+1):\n",
        "    obs = env.reset()     # Retorna a observação inicial\n",
        "    done = False\n",
        "    score = 0\n",
        "    while not done:\n",
        "        frames.append(env.render(mode='rgb_array'))     # Renderizando o ambiente\n",
        "        action = env.action_space.sample()              # Seleciona uma ação aleatória\n",
        "        obs, reward, done, info = env.step(action)    # Executa a ação selecionada\n",
        "        score += reward\n",
        "    print(\"\\n\\nEpisódio: {} Pontuação: {}\".format(episode,score))\n",
        "env.close()"
      ],
      "execution_count": 9,
      "outputs": [
        {
          "output_type": "stream",
          "name": "stdout",
          "text": [
            "\n",
            "\n",
            "Episódio: 1 Pontuação: 0.0\n"
          ]
        }
      ]
    },
    {
      "cell_type": "code",
      "metadata": {
        "id": "3JvCqsFCEadc",
        "colab": {
          "base_uri": "https://localhost:8080/",
          "height": 478
        },
        "outputId": "edce3a17-1f20-4985-8a87-0d7d86cb11f3"
      },
      "source": [
        "display.HTML(display_anim(frames))\n"
      ],
      "execution_count": 10,
      "outputs": [
        {
          "output_type": "error",
          "ename": "KeyboardInterrupt",
          "evalue": "ignored",
          "traceback": [
            "\u001b[0;31m---------------------------------------------------------------------------\u001b[0m",
            "\u001b[0;31mKeyboardInterrupt\u001b[0m                         Traceback (most recent call last)",
            "\u001b[0;32m<ipython-input-10-b85aedd3f593>\u001b[0m in \u001b[0;36m<module>\u001b[0;34m()\u001b[0m\n\u001b[0;32m----> 1\u001b[0;31m \u001b[0mdisplay\u001b[0m\u001b[0;34m.\u001b[0m\u001b[0mHTML\u001b[0m\u001b[0;34m(\u001b[0m\u001b[0mdisplay_anim\u001b[0m\u001b[0;34m(\u001b[0m\u001b[0mframes\u001b[0m\u001b[0;34m)\u001b[0m\u001b[0;34m)\u001b[0m\u001b[0;34m\u001b[0m\u001b[0;34m\u001b[0m\u001b[0m\n\u001b[0m",
            "\u001b[0;32m<ipython-input-7-f7a447e36353>\u001b[0m in \u001b[0;36mdisplay_anim\u001b[0;34m(frames, dpi, fps)\u001b[0m\n\u001b[1;32m     22\u001b[0m \u001b[0;32mdef\u001b[0m \u001b[0mdisplay_anim\u001b[0m\u001b[0;34m(\u001b[0m\u001b[0mframes\u001b[0m\u001b[0;34m,\u001b[0m \u001b[0mdpi\u001b[0m\u001b[0;34m=\u001b[0m\u001b[0;36m72\u001b[0m\u001b[0;34m,\u001b[0m \u001b[0mfps\u001b[0m\u001b[0;34m=\u001b[0m\u001b[0;36m60\u001b[0m\u001b[0;34m)\u001b[0m\u001b[0;34m:\u001b[0m\u001b[0;34m\u001b[0m\u001b[0;34m\u001b[0m\u001b[0m\n\u001b[1;32m     23\u001b[0m     \u001b[0manim\u001b[0m \u001b[0;34m=\u001b[0m \u001b[0mcreate_anim\u001b[0m\u001b[0;34m(\u001b[0m\u001b[0mframes\u001b[0m\u001b[0;34m,\u001b[0m \u001b[0mdpi\u001b[0m\u001b[0;34m,\u001b[0m \u001b[0mfps\u001b[0m\u001b[0;34m)\u001b[0m\u001b[0;34m\u001b[0m\u001b[0;34m\u001b[0m\u001b[0m\n\u001b[0;32m---> 24\u001b[0;31m     \u001b[0;32mreturn\u001b[0m \u001b[0manim\u001b[0m\u001b[0;34m.\u001b[0m\u001b[0mto_jshtml\u001b[0m\u001b[0;34m(\u001b[0m\u001b[0;34m)\u001b[0m\u001b[0;34m\u001b[0m\u001b[0;34m\u001b[0m\u001b[0m\n\u001b[0m\u001b[1;32m     25\u001b[0m \u001b[0;34m\u001b[0m\u001b[0m\n\u001b[1;32m     26\u001b[0m \u001b[0;32mdef\u001b[0m \u001b[0msave_anim\u001b[0m\u001b[0;34m(\u001b[0m\u001b[0mframes\u001b[0m\u001b[0;34m,\u001b[0m \u001b[0mfilename\u001b[0m\u001b[0;34m,\u001b[0m \u001b[0mdpi\u001b[0m\u001b[0;34m=\u001b[0m\u001b[0;36m72\u001b[0m\u001b[0;34m,\u001b[0m \u001b[0mfps\u001b[0m\u001b[0;34m=\u001b[0m\u001b[0;36m50\u001b[0m\u001b[0;34m)\u001b[0m\u001b[0;34m:\u001b[0m\u001b[0;34m\u001b[0m\u001b[0;34m\u001b[0m\u001b[0m\n",
            "\u001b[0;32m/usr/local/lib/python3.7/dist-packages/matplotlib/animation.py\u001b[0m in \u001b[0;36mto_jshtml\u001b[0;34m(self, fps, embed_frames, default_mode)\u001b[0m\n\u001b[1;32m   1380\u001b[0m                                     \u001b[0membed_frames\u001b[0m\u001b[0;34m=\u001b[0m\u001b[0membed_frames\u001b[0m\u001b[0;34m,\u001b[0m\u001b[0;34m\u001b[0m\u001b[0;34m\u001b[0m\u001b[0m\n\u001b[1;32m   1381\u001b[0m                                     default_mode=default_mode)\n\u001b[0;32m-> 1382\u001b[0;31m                 \u001b[0mself\u001b[0m\u001b[0;34m.\u001b[0m\u001b[0msave\u001b[0m\u001b[0;34m(\u001b[0m\u001b[0mstr\u001b[0m\u001b[0;34m(\u001b[0m\u001b[0mpath\u001b[0m\u001b[0;34m)\u001b[0m\u001b[0;34m,\u001b[0m \u001b[0mwriter\u001b[0m\u001b[0;34m=\u001b[0m\u001b[0mwriter\u001b[0m\u001b[0;34m)\u001b[0m\u001b[0;34m\u001b[0m\u001b[0;34m\u001b[0m\u001b[0m\n\u001b[0m\u001b[1;32m   1383\u001b[0m                 \u001b[0mself\u001b[0m\u001b[0;34m.\u001b[0m\u001b[0m_html_representation\u001b[0m \u001b[0;34m=\u001b[0m \u001b[0mpath\u001b[0m\u001b[0;34m.\u001b[0m\u001b[0mread_text\u001b[0m\u001b[0;34m(\u001b[0m\u001b[0;34m)\u001b[0m\u001b[0;34m\u001b[0m\u001b[0;34m\u001b[0m\u001b[0m\n\u001b[1;32m   1384\u001b[0m \u001b[0;34m\u001b[0m\u001b[0m\n",
            "\u001b[0;32m/usr/local/lib/python3.7/dist-packages/matplotlib/animation.py\u001b[0m in \u001b[0;36msave\u001b[0;34m(self, filename, writer, fps, dpi, codec, bitrate, extra_args, metadata, extra_anim, savefig_kwargs, progress_callback)\u001b[0m\n\u001b[1;32m   1146\u001b[0m                     \u001b[0;32mfor\u001b[0m \u001b[0manim\u001b[0m\u001b[0;34m,\u001b[0m \u001b[0md\u001b[0m \u001b[0;32min\u001b[0m \u001b[0mzip\u001b[0m\u001b[0;34m(\u001b[0m\u001b[0mall_anim\u001b[0m\u001b[0;34m,\u001b[0m \u001b[0mdata\u001b[0m\u001b[0;34m)\u001b[0m\u001b[0;34m:\u001b[0m\u001b[0;34m\u001b[0m\u001b[0;34m\u001b[0m\u001b[0m\n\u001b[1;32m   1147\u001b[0m                         \u001b[0;31m# TODO: See if turning off blit is really necessary\u001b[0m\u001b[0;34m\u001b[0m\u001b[0;34m\u001b[0m\u001b[0;34m\u001b[0m\u001b[0m\n\u001b[0;32m-> 1148\u001b[0;31m                         \u001b[0manim\u001b[0m\u001b[0;34m.\u001b[0m\u001b[0m_draw_next_frame\u001b[0m\u001b[0;34m(\u001b[0m\u001b[0md\u001b[0m\u001b[0;34m,\u001b[0m \u001b[0mblit\u001b[0m\u001b[0;34m=\u001b[0m\u001b[0;32mFalse\u001b[0m\u001b[0;34m)\u001b[0m\u001b[0;34m\u001b[0m\u001b[0;34m\u001b[0m\u001b[0m\n\u001b[0m\u001b[1;32m   1149\u001b[0m                         \u001b[0;32mif\u001b[0m \u001b[0mprogress_callback\u001b[0m \u001b[0;32mis\u001b[0m \u001b[0;32mnot\u001b[0m \u001b[0;32mNone\u001b[0m\u001b[0;34m:\u001b[0m\u001b[0;34m\u001b[0m\u001b[0;34m\u001b[0m\u001b[0m\n\u001b[1;32m   1150\u001b[0m                             \u001b[0mprogress_callback\u001b[0m\u001b[0;34m(\u001b[0m\u001b[0mframe_number\u001b[0m\u001b[0;34m,\u001b[0m \u001b[0mtotal_frames\u001b[0m\u001b[0;34m)\u001b[0m\u001b[0;34m\u001b[0m\u001b[0;34m\u001b[0m\u001b[0m\n",
            "\u001b[0;32m/usr/local/lib/python3.7/dist-packages/matplotlib/animation.py\u001b[0m in \u001b[0;36m_draw_next_frame\u001b[0;34m(self, framedata, blit)\u001b[0m\n\u001b[1;32m   1187\u001b[0m         \u001b[0mself\u001b[0m\u001b[0;34m.\u001b[0m\u001b[0m_pre_draw\u001b[0m\u001b[0;34m(\u001b[0m\u001b[0mframedata\u001b[0m\u001b[0;34m,\u001b[0m \u001b[0mblit\u001b[0m\u001b[0;34m)\u001b[0m\u001b[0;34m\u001b[0m\u001b[0;34m\u001b[0m\u001b[0m\n\u001b[1;32m   1188\u001b[0m         \u001b[0mself\u001b[0m\u001b[0;34m.\u001b[0m\u001b[0m_draw_frame\u001b[0m\u001b[0;34m(\u001b[0m\u001b[0mframedata\u001b[0m\u001b[0;34m)\u001b[0m\u001b[0;34m\u001b[0m\u001b[0;34m\u001b[0m\u001b[0m\n\u001b[0;32m-> 1189\u001b[0;31m         \u001b[0mself\u001b[0m\u001b[0;34m.\u001b[0m\u001b[0m_post_draw\u001b[0m\u001b[0;34m(\u001b[0m\u001b[0mframedata\u001b[0m\u001b[0;34m,\u001b[0m \u001b[0mblit\u001b[0m\u001b[0;34m)\u001b[0m\u001b[0;34m\u001b[0m\u001b[0;34m\u001b[0m\u001b[0m\n\u001b[0m\u001b[1;32m   1190\u001b[0m \u001b[0;34m\u001b[0m\u001b[0m\n\u001b[1;32m   1191\u001b[0m     \u001b[0;32mdef\u001b[0m \u001b[0m_init_draw\u001b[0m\u001b[0;34m(\u001b[0m\u001b[0mself\u001b[0m\u001b[0;34m)\u001b[0m\u001b[0;34m:\u001b[0m\u001b[0;34m\u001b[0m\u001b[0;34m\u001b[0m\u001b[0m\n",
            "\u001b[0;32m/usr/local/lib/python3.7/dist-packages/matplotlib/animation.py\u001b[0m in \u001b[0;36m_post_draw\u001b[0;34m(self, framedata, blit)\u001b[0m\n\u001b[1;32m   1212\u001b[0m             \u001b[0mself\u001b[0m\u001b[0;34m.\u001b[0m\u001b[0m_blit_draw\u001b[0m\u001b[0;34m(\u001b[0m\u001b[0mself\u001b[0m\u001b[0;34m.\u001b[0m\u001b[0m_drawn_artists\u001b[0m\u001b[0;34m,\u001b[0m \u001b[0mself\u001b[0m\u001b[0;34m.\u001b[0m\u001b[0m_blit_cache\u001b[0m\u001b[0;34m)\u001b[0m\u001b[0;34m\u001b[0m\u001b[0;34m\u001b[0m\u001b[0m\n\u001b[1;32m   1213\u001b[0m         \u001b[0;32melse\u001b[0m\u001b[0;34m:\u001b[0m\u001b[0;34m\u001b[0m\u001b[0;34m\u001b[0m\u001b[0m\n\u001b[0;32m-> 1214\u001b[0;31m             \u001b[0mself\u001b[0m\u001b[0;34m.\u001b[0m\u001b[0m_fig\u001b[0m\u001b[0;34m.\u001b[0m\u001b[0mcanvas\u001b[0m\u001b[0;34m.\u001b[0m\u001b[0mdraw_idle\u001b[0m\u001b[0;34m(\u001b[0m\u001b[0;34m)\u001b[0m\u001b[0;34m\u001b[0m\u001b[0;34m\u001b[0m\u001b[0m\n\u001b[0m\u001b[1;32m   1215\u001b[0m \u001b[0;34m\u001b[0m\u001b[0m\n\u001b[1;32m   1216\u001b[0m     \u001b[0;31m# The rest of the code in this class is to facilitate easy blitting\u001b[0m\u001b[0;34m\u001b[0m\u001b[0;34m\u001b[0m\u001b[0;34m\u001b[0m\u001b[0m\n",
            "\u001b[0;32m/usr/local/lib/python3.7/dist-packages/matplotlib/backend_bases.py\u001b[0m in \u001b[0;36mdraw_idle\u001b[0;34m(self, *args, **kwargs)\u001b[0m\n\u001b[1;32m   1945\u001b[0m         \u001b[0;32mif\u001b[0m \u001b[0;32mnot\u001b[0m \u001b[0mself\u001b[0m\u001b[0;34m.\u001b[0m\u001b[0m_is_idle_drawing\u001b[0m\u001b[0;34m:\u001b[0m\u001b[0;34m\u001b[0m\u001b[0;34m\u001b[0m\u001b[0m\n\u001b[1;32m   1946\u001b[0m             \u001b[0;32mwith\u001b[0m \u001b[0mself\u001b[0m\u001b[0;34m.\u001b[0m\u001b[0m_idle_draw_cntx\u001b[0m\u001b[0;34m(\u001b[0m\u001b[0;34m)\u001b[0m\u001b[0;34m:\u001b[0m\u001b[0;34m\u001b[0m\u001b[0;34m\u001b[0m\u001b[0m\n\u001b[0;32m-> 1947\u001b[0;31m                 \u001b[0mself\u001b[0m\u001b[0;34m.\u001b[0m\u001b[0mdraw\u001b[0m\u001b[0;34m(\u001b[0m\u001b[0;34m*\u001b[0m\u001b[0margs\u001b[0m\u001b[0;34m,\u001b[0m \u001b[0;34m**\u001b[0m\u001b[0mkwargs\u001b[0m\u001b[0;34m)\u001b[0m\u001b[0;34m\u001b[0m\u001b[0;34m\u001b[0m\u001b[0m\n\u001b[0m\u001b[1;32m   1948\u001b[0m \u001b[0;34m\u001b[0m\u001b[0m\n\u001b[1;32m   1949\u001b[0m     \u001b[0;34m@\u001b[0m\u001b[0mcbook\u001b[0m\u001b[0;34m.\u001b[0m\u001b[0mdeprecated\u001b[0m\u001b[0;34m(\u001b[0m\u001b[0;34m\"3.2\"\u001b[0m\u001b[0;34m)\u001b[0m\u001b[0;34m\u001b[0m\u001b[0;34m\u001b[0m\u001b[0m\n",
            "\u001b[0;32m/usr/local/lib/python3.7/dist-packages/matplotlib/backends/backend_agg.py\u001b[0m in \u001b[0;36mdraw\u001b[0;34m(self)\u001b[0m\n\u001b[1;32m    391\u001b[0m              (self.toolbar._wait_cursor_for_draw_cm() if self.toolbar\n\u001b[1;32m    392\u001b[0m               else nullcontext()):\n\u001b[0;32m--> 393\u001b[0;31m             \u001b[0mself\u001b[0m\u001b[0;34m.\u001b[0m\u001b[0mfigure\u001b[0m\u001b[0;34m.\u001b[0m\u001b[0mdraw\u001b[0m\u001b[0;34m(\u001b[0m\u001b[0mself\u001b[0m\u001b[0;34m.\u001b[0m\u001b[0mrenderer\u001b[0m\u001b[0;34m)\u001b[0m\u001b[0;34m\u001b[0m\u001b[0;34m\u001b[0m\u001b[0m\n\u001b[0m\u001b[1;32m    394\u001b[0m             \u001b[0;31m# A GUI class may be need to update a window using this draw, so\u001b[0m\u001b[0;34m\u001b[0m\u001b[0;34m\u001b[0m\u001b[0;34m\u001b[0m\u001b[0m\n\u001b[1;32m    395\u001b[0m             \u001b[0;31m# don't forget to call the superclass.\u001b[0m\u001b[0;34m\u001b[0m\u001b[0;34m\u001b[0m\u001b[0;34m\u001b[0m\u001b[0m\n",
            "\u001b[0;32m/usr/local/lib/python3.7/dist-packages/matplotlib/artist.py\u001b[0m in \u001b[0;36mdraw_wrapper\u001b[0;34m(artist, renderer, *args, **kwargs)\u001b[0m\n\u001b[1;32m     36\u001b[0m                 \u001b[0mrenderer\u001b[0m\u001b[0;34m.\u001b[0m\u001b[0mstart_filter\u001b[0m\u001b[0;34m(\u001b[0m\u001b[0;34m)\u001b[0m\u001b[0;34m\u001b[0m\u001b[0;34m\u001b[0m\u001b[0m\n\u001b[1;32m     37\u001b[0m \u001b[0;34m\u001b[0m\u001b[0m\n\u001b[0;32m---> 38\u001b[0;31m             \u001b[0;32mreturn\u001b[0m \u001b[0mdraw\u001b[0m\u001b[0;34m(\u001b[0m\u001b[0martist\u001b[0m\u001b[0;34m,\u001b[0m \u001b[0mrenderer\u001b[0m\u001b[0;34m,\u001b[0m \u001b[0;34m*\u001b[0m\u001b[0margs\u001b[0m\u001b[0;34m,\u001b[0m \u001b[0;34m**\u001b[0m\u001b[0mkwargs\u001b[0m\u001b[0;34m)\u001b[0m\u001b[0;34m\u001b[0m\u001b[0;34m\u001b[0m\u001b[0m\n\u001b[0m\u001b[1;32m     39\u001b[0m         \u001b[0;32mfinally\u001b[0m\u001b[0;34m:\u001b[0m\u001b[0;34m\u001b[0m\u001b[0;34m\u001b[0m\u001b[0m\n\u001b[1;32m     40\u001b[0m             \u001b[0;32mif\u001b[0m \u001b[0martist\u001b[0m\u001b[0;34m.\u001b[0m\u001b[0mget_agg_filter\u001b[0m\u001b[0;34m(\u001b[0m\u001b[0;34m)\u001b[0m \u001b[0;32mis\u001b[0m \u001b[0;32mnot\u001b[0m \u001b[0;32mNone\u001b[0m\u001b[0;34m:\u001b[0m\u001b[0;34m\u001b[0m\u001b[0;34m\u001b[0m\u001b[0m\n",
            "\u001b[0;32m/usr/local/lib/python3.7/dist-packages/matplotlib/figure.py\u001b[0m in \u001b[0;36mdraw\u001b[0;34m(self, renderer)\u001b[0m\n\u001b[1;32m   1710\u001b[0m                 \u001b[0max\u001b[0m\u001b[0;34m.\u001b[0m\u001b[0mapply_aspect\u001b[0m\u001b[0;34m(\u001b[0m\u001b[0mpos\u001b[0m\u001b[0;34m)\u001b[0m\u001b[0;34m\u001b[0m\u001b[0;34m\u001b[0m\u001b[0m\n\u001b[1;32m   1711\u001b[0m             \u001b[0;32melse\u001b[0m\u001b[0;34m:\u001b[0m\u001b[0;34m\u001b[0m\u001b[0;34m\u001b[0m\u001b[0m\n\u001b[0;32m-> 1712\u001b[0;31m                 \u001b[0max\u001b[0m\u001b[0;34m.\u001b[0m\u001b[0mapply_aspect\u001b[0m\u001b[0;34m(\u001b[0m\u001b[0;34m)\u001b[0m\u001b[0;34m\u001b[0m\u001b[0;34m\u001b[0m\u001b[0m\n\u001b[0m\u001b[1;32m   1713\u001b[0m \u001b[0;34m\u001b[0m\u001b[0m\n\u001b[1;32m   1714\u001b[0m             \u001b[0;32mfor\u001b[0m \u001b[0mchild\u001b[0m \u001b[0;32min\u001b[0m \u001b[0max\u001b[0m\u001b[0;34m.\u001b[0m\u001b[0mget_children\u001b[0m\u001b[0;34m(\u001b[0m\u001b[0;34m)\u001b[0m\u001b[0;34m:\u001b[0m\u001b[0;34m\u001b[0m\u001b[0;34m\u001b[0m\u001b[0m\n",
            "\u001b[0;32m/usr/local/lib/python3.7/dist-packages/matplotlib/axes/_base.py\u001b[0m in \u001b[0;36mapply_aspect\u001b[0;34m(self, position)\u001b[0m\n\u001b[1;32m   1477\u001b[0m                 raise RuntimeError(\"Adjustable 'box' is not allowed in a \"\n\u001b[1;32m   1478\u001b[0m                                    \"twinned Axes; use 'datalim' instead\")\n\u001b[0;32m-> 1479\u001b[0;31m             \u001b[0mbox_aspect\u001b[0m \u001b[0;34m=\u001b[0m \u001b[0maspect\u001b[0m \u001b[0;34m*\u001b[0m \u001b[0mself\u001b[0m\u001b[0;34m.\u001b[0m\u001b[0mget_data_ratio\u001b[0m\u001b[0;34m(\u001b[0m\u001b[0;34m)\u001b[0m\u001b[0;34m\u001b[0m\u001b[0;34m\u001b[0m\u001b[0m\n\u001b[0m\u001b[1;32m   1480\u001b[0m             \u001b[0mpb\u001b[0m \u001b[0;34m=\u001b[0m \u001b[0mposition\u001b[0m\u001b[0;34m.\u001b[0m\u001b[0mfrozen\u001b[0m\u001b[0;34m(\u001b[0m\u001b[0;34m)\u001b[0m\u001b[0;34m\u001b[0m\u001b[0;34m\u001b[0m\u001b[0m\n\u001b[1;32m   1481\u001b[0m             \u001b[0mpb1\u001b[0m \u001b[0;34m=\u001b[0m \u001b[0mpb\u001b[0m\u001b[0;34m.\u001b[0m\u001b[0mshrunk_to_aspect\u001b[0m\u001b[0;34m(\u001b[0m\u001b[0mbox_aspect\u001b[0m\u001b[0;34m,\u001b[0m \u001b[0mpb\u001b[0m\u001b[0;34m,\u001b[0m \u001b[0mfig_aspect\u001b[0m\u001b[0;34m)\u001b[0m\u001b[0;34m\u001b[0m\u001b[0;34m\u001b[0m\u001b[0m\n",
            "\u001b[0;32m/usr/local/lib/python3.7/dist-packages/matplotlib/axes/_base.py\u001b[0m in \u001b[0;36mget_data_ratio\u001b[0;34m(self)\u001b[0m\n\u001b[1;32m   1411\u001b[0m         \u001b[0mThis\u001b[0m \u001b[0mmethod\u001b[0m \u001b[0;32mis\u001b[0m \u001b[0mintended\u001b[0m \u001b[0mto\u001b[0m \u001b[0mbe\u001b[0m \u001b[0moverridden\u001b[0m \u001b[0mby\u001b[0m \u001b[0mnew\u001b[0m \u001b[0mprojection\u001b[0m \u001b[0mtypes\u001b[0m\u001b[0;34m.\u001b[0m\u001b[0;34m\u001b[0m\u001b[0;34m\u001b[0m\u001b[0m\n\u001b[1;32m   1412\u001b[0m         \"\"\"\n\u001b[0;32m-> 1413\u001b[0;31m         \u001b[0mtxmin\u001b[0m\u001b[0;34m,\u001b[0m \u001b[0mtxmax\u001b[0m \u001b[0;34m=\u001b[0m \u001b[0mself\u001b[0m\u001b[0;34m.\u001b[0m\u001b[0mxaxis\u001b[0m\u001b[0;34m.\u001b[0m\u001b[0mget_transform\u001b[0m\u001b[0;34m(\u001b[0m\u001b[0;34m)\u001b[0m\u001b[0;34m.\u001b[0m\u001b[0mtransform\u001b[0m\u001b[0;34m(\u001b[0m\u001b[0mself\u001b[0m\u001b[0;34m.\u001b[0m\u001b[0mget_xbound\u001b[0m\u001b[0;34m(\u001b[0m\u001b[0;34m)\u001b[0m\u001b[0;34m)\u001b[0m\u001b[0;34m\u001b[0m\u001b[0;34m\u001b[0m\u001b[0m\n\u001b[0m\u001b[1;32m   1414\u001b[0m         \u001b[0mtymin\u001b[0m\u001b[0;34m,\u001b[0m \u001b[0mtymax\u001b[0m \u001b[0;34m=\u001b[0m \u001b[0mself\u001b[0m\u001b[0;34m.\u001b[0m\u001b[0myaxis\u001b[0m\u001b[0;34m.\u001b[0m\u001b[0mget_transform\u001b[0m\u001b[0;34m(\u001b[0m\u001b[0;34m)\u001b[0m\u001b[0;34m.\u001b[0m\u001b[0mtransform\u001b[0m\u001b[0;34m(\u001b[0m\u001b[0mself\u001b[0m\u001b[0;34m.\u001b[0m\u001b[0mget_ybound\u001b[0m\u001b[0;34m(\u001b[0m\u001b[0;34m)\u001b[0m\u001b[0;34m)\u001b[0m\u001b[0;34m\u001b[0m\u001b[0;34m\u001b[0m\u001b[0m\n\u001b[1;32m   1415\u001b[0m         \u001b[0mxsize\u001b[0m \u001b[0;34m=\u001b[0m \u001b[0mmax\u001b[0m\u001b[0;34m(\u001b[0m\u001b[0mabs\u001b[0m\u001b[0;34m(\u001b[0m\u001b[0mtxmax\u001b[0m \u001b[0;34m-\u001b[0m \u001b[0mtxmin\u001b[0m\u001b[0;34m)\u001b[0m\u001b[0;34m,\u001b[0m \u001b[0;36m1e-30\u001b[0m\u001b[0;34m)\u001b[0m\u001b[0;34m\u001b[0m\u001b[0;34m\u001b[0m\u001b[0m\n",
            "\u001b[0;32m/usr/local/lib/python3.7/dist-packages/matplotlib/transforms.py\u001b[0m in \u001b[0;36mtransform\u001b[0;34m(self, points)\u001b[0m\n\u001b[1;32m   2057\u001b[0m     \u001b[0;32mdef\u001b[0m \u001b[0mtransform\u001b[0m\u001b[0;34m(\u001b[0m\u001b[0mself\u001b[0m\u001b[0;34m,\u001b[0m \u001b[0mpoints\u001b[0m\u001b[0;34m)\u001b[0m\u001b[0;34m:\u001b[0m\u001b[0;34m\u001b[0m\u001b[0;34m\u001b[0m\u001b[0m\n\u001b[1;32m   2058\u001b[0m         \u001b[0;31m# docstring inherited\u001b[0m\u001b[0;34m\u001b[0m\u001b[0;34m\u001b[0m\u001b[0;34m\u001b[0m\u001b[0m\n\u001b[0;32m-> 2059\u001b[0;31m         \u001b[0;32mreturn\u001b[0m \u001b[0mnp\u001b[0m\u001b[0;34m.\u001b[0m\u001b[0masanyarray\u001b[0m\u001b[0;34m(\u001b[0m\u001b[0mpoints\u001b[0m\u001b[0;34m)\u001b[0m\u001b[0;34m\u001b[0m\u001b[0;34m\u001b[0m\u001b[0m\n\u001b[0m\u001b[1;32m   2060\u001b[0m \u001b[0;34m\u001b[0m\u001b[0m\n\u001b[1;32m   2061\u001b[0m     \u001b[0;32mdef\u001b[0m \u001b[0mtransform_affine\u001b[0m\u001b[0;34m(\u001b[0m\u001b[0mself\u001b[0m\u001b[0;34m,\u001b[0m \u001b[0mpoints\u001b[0m\u001b[0;34m)\u001b[0m\u001b[0;34m:\u001b[0m\u001b[0;34m\u001b[0m\u001b[0;34m\u001b[0m\u001b[0m\n",
            "\u001b[0;32m/usr/local/lib/python3.7/dist-packages/numpy/core/_asarray.py\u001b[0m in \u001b[0;36masanyarray\u001b[0;34m(a, dtype, order)\u001b[0m\n\u001b[1;32m    134\u001b[0m \u001b[0;34m\u001b[0m\u001b[0m\n\u001b[1;32m    135\u001b[0m     \"\"\"\n\u001b[0;32m--> 136\u001b[0;31m     \u001b[0;32mreturn\u001b[0m \u001b[0marray\u001b[0m\u001b[0;34m(\u001b[0m\u001b[0ma\u001b[0m\u001b[0;34m,\u001b[0m \u001b[0mdtype\u001b[0m\u001b[0;34m,\u001b[0m \u001b[0mcopy\u001b[0m\u001b[0;34m=\u001b[0m\u001b[0;32mFalse\u001b[0m\u001b[0;34m,\u001b[0m \u001b[0morder\u001b[0m\u001b[0;34m=\u001b[0m\u001b[0morder\u001b[0m\u001b[0;34m,\u001b[0m \u001b[0msubok\u001b[0m\u001b[0;34m=\u001b[0m\u001b[0;32mTrue\u001b[0m\u001b[0;34m)\u001b[0m\u001b[0;34m\u001b[0m\u001b[0;34m\u001b[0m\u001b[0m\n\u001b[0m\u001b[1;32m    137\u001b[0m \u001b[0;34m\u001b[0m\u001b[0m\n\u001b[1;32m    138\u001b[0m \u001b[0;34m\u001b[0m\u001b[0m\n",
            "\u001b[0;31mKeyboardInterrupt\u001b[0m: "
          ]
        },
        {
          "output_type": "display_data",
          "data": {
            "image/png": "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\n",
            "text/plain": [
              "<Figure size 160x210 with 1 Axes>"
            ]
          },
          "metadata": {
            "needs_background": "light"
          }
        }
      ]
    },
    {
      "cell_type": "markdown",
      "metadata": {
        "id": "3jQFnEqE7je3"
      },
      "source": [
        "# Carregar Modelo Especialista\n",
        "\n",
        "O modelo especialista que estamos disponibilizando para você é um agente de aprendizado por reforço treinado com o algoritmo Proximal Policy Optmization (PPO). Para isso, foi utilizado a biblioteca [Stable Baselines3](https://stable-baselines3.readthedocs.io/en/master/), que contém uma série de implementações de algoritmos de Aprendizado por Reforço em PyTorch."
      ]
    },
    {
      "cell_type": "code",
      "metadata": {
        "colab": {
          "base_uri": "https://localhost:8080/"
        },
        "id": "LgehcZJTarmv",
        "outputId": "9f3e669d-c736-4e4f-d9b9-3133c059f372"
      },
      "source": [
        "!cd minicurso_rl && gdown --id 1ZV5fvCbU_gbTy1AraSR-ymNsiNQesBvt"
      ],
      "execution_count": 8,
      "outputs": [
        {
          "output_type": "stream",
          "name": "stdout",
          "text": [
            "Downloading...\n",
            "From: https://drive.google.com/uc?id=1ZV5fvCbU_gbTy1AraSR-ymNsiNQesBvt\n",
            "To: /content/gdrive/My Drive/minicurso_rl/EnduroNoFrameskip-v4.zip\n",
            "\r  0% 0.00/20.8M [00:00<?, ?B/s]\r 53% 11.0M/20.8M [00:00<00:00, 106MB/s]\r100% 20.8M/20.8M [00:00<00:00, 97.2MB/s]\n"
          ]
        }
      ]
    },
    {
      "cell_type": "code",
      "metadata": {
        "id": "IH6R9BG2bY3n"
      },
      "source": [
        "from stable_baselines3 import PPO, A2C\n",
        "from stable_baselines3.common.evaluation import evaluate_policy\n",
        "from stable_baselines3.common.atari_wrappers import AtariWrapper\n",
        "from stable_baselines3.common.env_util import make_vec_env\n",
        "from stable_baselines3.common.vec_env import VecFrameStack"
      ],
      "execution_count": 9,
      "outputs": []
    },
    {
      "cell_type": "code",
      "metadata": {
        "id": "g4UFIcHJ7is5"
      },
      "source": [
        "expert = PPO.load(\"minicurso_rl/EnduroNoFrameskip-v4\")"
      ],
      "execution_count": 10,
      "outputs": []
    },
    {
      "cell_type": "markdown",
      "metadata": {
        "id": "d0550zylM3Jd"
      },
      "source": [
        "Para criar o ambiente iremos aplicar alguns processamentos que irão ajudar o agente.\n",
        "\n",
        "Os wrappers nos permitirão adicionar funcionalidade aos ambientes, como modificar observações e recompensas a serem fornecidas ao nosso agente. É comum na aprendizagem por reforço pré-processar as observações para torná-las mais fáceis de aprender. Um exemplo comum é ao usar entradas baseadas em imagem, para garantir que todos os valores estejam entre 0 e 1 ao invés de entre 0 e 255, como é mais comum com imagens RGB.\n",
        "\n",
        "Para mais detalhes dos wrappers utilizados veja em: [Atari Wrappers](https://stable-baselines3.readthedocs.io/en/master/common/atari_wrappers.html) e [Vectorized Environments](https://stable-baselines3.readthedocs.io/en/master/guide/examples.html?highlight=make_vec_env#multiprocessing-unleashing-the-power-of-vectorized-environments)."
      ]
    },
    {
      "cell_type": "code",
      "metadata": {
        "id": "te8GATTMgzyJ"
      },
      "source": [
        "env = make_vec_env(environment_id, wrapper_class=AtariWrapper)  \n",
        "env = VecFrameStack(env, 4) "
      ],
      "execution_count": 11,
      "outputs": []
    },
    {
      "cell_type": "markdown",
      "metadata": {
        "id": "SVOfCTfrrWZd"
      },
      "source": [
        "Vamos ver o quão bem o especialista consegue se sair no ambiente."
      ]
    },
    {
      "cell_type": "code",
      "metadata": {
        "id": "_tdWi45r1e4U",
        "colab": {
          "base_uri": "https://localhost:8080/",
          "height": 323
        },
        "outputId": "daa5c880-71a9-4c8d-b370-cbc8ad50ff94"
      },
      "source": [
        "mean_reward, std_reward = evaluate_policy(expert, env, n_eval_episodes=10)\n",
        "print(f\"Recompensa média = {mean_reward} +/- {std_reward}\")"
      ],
      "execution_count": 12,
      "outputs": [
        {
          "output_type": "error",
          "ename": "KeyboardInterrupt",
          "evalue": "ignored",
          "traceback": [
            "\u001b[0;31m---------------------------------------------------------------------------\u001b[0m",
            "\u001b[0;31mKeyboardInterrupt\u001b[0m                         Traceback (most recent call last)",
            "\u001b[0;32m<ipython-input-12-0f3cb83469a8>\u001b[0m in \u001b[0;36m<module>\u001b[0;34m()\u001b[0m\n\u001b[0;32m----> 1\u001b[0;31m \u001b[0mmean_reward\u001b[0m\u001b[0;34m,\u001b[0m \u001b[0mstd_reward\u001b[0m \u001b[0;34m=\u001b[0m \u001b[0mevaluate_policy\u001b[0m\u001b[0;34m(\u001b[0m\u001b[0mexpert\u001b[0m\u001b[0;34m,\u001b[0m \u001b[0menv\u001b[0m\u001b[0;34m,\u001b[0m \u001b[0mn_eval_episodes\u001b[0m\u001b[0;34m=\u001b[0m\u001b[0;36m10\u001b[0m\u001b[0;34m)\u001b[0m\u001b[0;34m\u001b[0m\u001b[0;34m\u001b[0m\u001b[0m\n\u001b[0m\u001b[1;32m      2\u001b[0m \u001b[0mprint\u001b[0m\u001b[0;34m(\u001b[0m\u001b[0;34mf\"Recompensa média = {mean_reward} +/- {std_reward}\"\u001b[0m\u001b[0;34m)\u001b[0m\u001b[0;34m\u001b[0m\u001b[0;34m\u001b[0m\u001b[0m\n",
            "\u001b[0;32m/usr/local/lib/python3.7/dist-packages/stable_baselines3/common/evaluation.py\u001b[0m in \u001b[0;36mevaluate_policy\u001b[0;34m(model, env, n_eval_episodes, deterministic, render, callback, reward_threshold, return_episode_rewards, warn)\u001b[0m\n\u001b[1;32m     83\u001b[0m     \u001b[0mstates\u001b[0m \u001b[0;34m=\u001b[0m \u001b[0;32mNone\u001b[0m\u001b[0;34m\u001b[0m\u001b[0;34m\u001b[0m\u001b[0m\n\u001b[1;32m     84\u001b[0m     \u001b[0;32mwhile\u001b[0m \u001b[0;34m(\u001b[0m\u001b[0mepisode_counts\u001b[0m \u001b[0;34m<\u001b[0m \u001b[0mepisode_count_targets\u001b[0m\u001b[0;34m)\u001b[0m\u001b[0;34m.\u001b[0m\u001b[0many\u001b[0m\u001b[0;34m(\u001b[0m\u001b[0;34m)\u001b[0m\u001b[0;34m:\u001b[0m\u001b[0;34m\u001b[0m\u001b[0;34m\u001b[0m\u001b[0m\n\u001b[0;32m---> 85\u001b[0;31m         \u001b[0mactions\u001b[0m\u001b[0;34m,\u001b[0m \u001b[0mstates\u001b[0m \u001b[0;34m=\u001b[0m \u001b[0mmodel\u001b[0m\u001b[0;34m.\u001b[0m\u001b[0mpredict\u001b[0m\u001b[0;34m(\u001b[0m\u001b[0mobservations\u001b[0m\u001b[0;34m,\u001b[0m \u001b[0mstate\u001b[0m\u001b[0;34m=\u001b[0m\u001b[0mstates\u001b[0m\u001b[0;34m,\u001b[0m \u001b[0mdeterministic\u001b[0m\u001b[0;34m=\u001b[0m\u001b[0mdeterministic\u001b[0m\u001b[0;34m)\u001b[0m\u001b[0;34m\u001b[0m\u001b[0;34m\u001b[0m\u001b[0m\n\u001b[0m\u001b[1;32m     86\u001b[0m         \u001b[0mobservations\u001b[0m\u001b[0;34m,\u001b[0m \u001b[0mrewards\u001b[0m\u001b[0;34m,\u001b[0m \u001b[0mdones\u001b[0m\u001b[0;34m,\u001b[0m \u001b[0minfos\u001b[0m \u001b[0;34m=\u001b[0m \u001b[0menv\u001b[0m\u001b[0;34m.\u001b[0m\u001b[0mstep\u001b[0m\u001b[0;34m(\u001b[0m\u001b[0mactions\u001b[0m\u001b[0;34m)\u001b[0m\u001b[0;34m\u001b[0m\u001b[0;34m\u001b[0m\u001b[0m\n\u001b[1;32m     87\u001b[0m         \u001b[0mcurrent_rewards\u001b[0m \u001b[0;34m+=\u001b[0m \u001b[0mrewards\u001b[0m\u001b[0;34m\u001b[0m\u001b[0;34m\u001b[0m\u001b[0m\n",
            "\u001b[0;32m/usr/local/lib/python3.7/dist-packages/stable_baselines3/common/base_class.py\u001b[0m in \u001b[0;36mpredict\u001b[0;34m(self, observation, state, mask, deterministic)\u001b[0m\n\u001b[1;32m    538\u001b[0m             \u001b[0;34m(\u001b[0m\u001b[0mused\u001b[0m \u001b[0;32min\u001b[0m \u001b[0mrecurrent\u001b[0m \u001b[0mpolicies\u001b[0m\u001b[0;34m)\u001b[0m\u001b[0;34m\u001b[0m\u001b[0;34m\u001b[0m\u001b[0m\n\u001b[1;32m    539\u001b[0m         \"\"\"\n\u001b[0;32m--> 540\u001b[0;31m         \u001b[0;32mreturn\u001b[0m \u001b[0mself\u001b[0m\u001b[0;34m.\u001b[0m\u001b[0mpolicy\u001b[0m\u001b[0;34m.\u001b[0m\u001b[0mpredict\u001b[0m\u001b[0;34m(\u001b[0m\u001b[0mobservation\u001b[0m\u001b[0;34m,\u001b[0m \u001b[0mstate\u001b[0m\u001b[0;34m,\u001b[0m \u001b[0mmask\u001b[0m\u001b[0;34m,\u001b[0m \u001b[0mdeterministic\u001b[0m\u001b[0;34m)\u001b[0m\u001b[0;34m\u001b[0m\u001b[0;34m\u001b[0m\u001b[0m\n\u001b[0m\u001b[1;32m    541\u001b[0m \u001b[0;34m\u001b[0m\u001b[0m\n\u001b[1;32m    542\u001b[0m     \u001b[0;32mdef\u001b[0m \u001b[0mset_random_seed\u001b[0m\u001b[0;34m(\u001b[0m\u001b[0mself\u001b[0m\u001b[0;34m,\u001b[0m \u001b[0mseed\u001b[0m\u001b[0;34m:\u001b[0m \u001b[0mOptional\u001b[0m\u001b[0;34m[\u001b[0m\u001b[0mint\u001b[0m\u001b[0;34m]\u001b[0m \u001b[0;34m=\u001b[0m \u001b[0;32mNone\u001b[0m\u001b[0;34m)\u001b[0m \u001b[0;34m->\u001b[0m \u001b[0;32mNone\u001b[0m\u001b[0;34m:\u001b[0m\u001b[0;34m\u001b[0m\u001b[0;34m\u001b[0m\u001b[0m\n",
            "\u001b[0;32m/usr/local/lib/python3.7/dist-packages/stable_baselines3/common/policies.py\u001b[0m in \u001b[0;36mpredict\u001b[0;34m(self, observation, state, mask, deterministic)\u001b[0m\n\u001b[1;32m    324\u001b[0m \u001b[0;34m\u001b[0m\u001b[0m\n\u001b[1;32m    325\u001b[0m         \u001b[0;32mwith\u001b[0m \u001b[0mth\u001b[0m\u001b[0;34m.\u001b[0m\u001b[0mno_grad\u001b[0m\u001b[0;34m(\u001b[0m\u001b[0;34m)\u001b[0m\u001b[0;34m:\u001b[0m\u001b[0;34m\u001b[0m\u001b[0;34m\u001b[0m\u001b[0m\n\u001b[0;32m--> 326\u001b[0;31m             \u001b[0mactions\u001b[0m \u001b[0;34m=\u001b[0m \u001b[0mself\u001b[0m\u001b[0;34m.\u001b[0m\u001b[0m_predict\u001b[0m\u001b[0;34m(\u001b[0m\u001b[0mobservation\u001b[0m\u001b[0;34m,\u001b[0m \u001b[0mdeterministic\u001b[0m\u001b[0;34m=\u001b[0m\u001b[0mdeterministic\u001b[0m\u001b[0;34m)\u001b[0m\u001b[0;34m\u001b[0m\u001b[0;34m\u001b[0m\u001b[0m\n\u001b[0m\u001b[1;32m    327\u001b[0m         \u001b[0;31m# Convert to numpy\u001b[0m\u001b[0;34m\u001b[0m\u001b[0;34m\u001b[0m\u001b[0;34m\u001b[0m\u001b[0m\n\u001b[1;32m    328\u001b[0m         \u001b[0mactions\u001b[0m \u001b[0;34m=\u001b[0m \u001b[0mactions\u001b[0m\u001b[0;34m.\u001b[0m\u001b[0mcpu\u001b[0m\u001b[0;34m(\u001b[0m\u001b[0;34m)\u001b[0m\u001b[0;34m.\u001b[0m\u001b[0mnumpy\u001b[0m\u001b[0;34m(\u001b[0m\u001b[0;34m)\u001b[0m\u001b[0;34m\u001b[0m\u001b[0;34m\u001b[0m\u001b[0m\n",
            "\u001b[0;32m/usr/local/lib/python3.7/dist-packages/stable_baselines3/common/policies.py\u001b[0m in \u001b[0;36m_predict\u001b[0;34m(self, observation, deterministic)\u001b[0m\n\u001b[1;32m    646\u001b[0m         \"\"\"\n\u001b[1;32m    647\u001b[0m         \u001b[0mlatent_pi\u001b[0m\u001b[0;34m,\u001b[0m \u001b[0m_\u001b[0m\u001b[0;34m,\u001b[0m \u001b[0mlatent_sde\u001b[0m \u001b[0;34m=\u001b[0m \u001b[0mself\u001b[0m\u001b[0;34m.\u001b[0m\u001b[0m_get_latent\u001b[0m\u001b[0;34m(\u001b[0m\u001b[0mobservation\u001b[0m\u001b[0;34m)\u001b[0m\u001b[0;34m\u001b[0m\u001b[0;34m\u001b[0m\u001b[0m\n\u001b[0;32m--> 648\u001b[0;31m         \u001b[0mdistribution\u001b[0m \u001b[0;34m=\u001b[0m \u001b[0mself\u001b[0m\u001b[0;34m.\u001b[0m\u001b[0m_get_action_dist_from_latent\u001b[0m\u001b[0;34m(\u001b[0m\u001b[0mlatent_pi\u001b[0m\u001b[0;34m,\u001b[0m \u001b[0mlatent_sde\u001b[0m\u001b[0;34m)\u001b[0m\u001b[0;34m\u001b[0m\u001b[0;34m\u001b[0m\u001b[0m\n\u001b[0m\u001b[1;32m    649\u001b[0m         \u001b[0;32mreturn\u001b[0m \u001b[0mdistribution\u001b[0m\u001b[0;34m.\u001b[0m\u001b[0mget_actions\u001b[0m\u001b[0;34m(\u001b[0m\u001b[0mdeterministic\u001b[0m\u001b[0;34m=\u001b[0m\u001b[0mdeterministic\u001b[0m\u001b[0;34m)\u001b[0m\u001b[0;34m\u001b[0m\u001b[0;34m\u001b[0m\u001b[0m\n\u001b[1;32m    650\u001b[0m \u001b[0;34m\u001b[0m\u001b[0m\n",
            "\u001b[0;32m/usr/local/lib/python3.7/dist-packages/stable_baselines3/common/policies.py\u001b[0m in \u001b[0;36m_get_action_dist_from_latent\u001b[0;34m(self, latent_pi, latent_sde)\u001b[0m\n\u001b[1;32m    625\u001b[0m         \u001b[0;32melif\u001b[0m \u001b[0misinstance\u001b[0m\u001b[0;34m(\u001b[0m\u001b[0mself\u001b[0m\u001b[0;34m.\u001b[0m\u001b[0maction_dist\u001b[0m\u001b[0;34m,\u001b[0m \u001b[0mCategoricalDistribution\u001b[0m\u001b[0;34m)\u001b[0m\u001b[0;34m:\u001b[0m\u001b[0;34m\u001b[0m\u001b[0;34m\u001b[0m\u001b[0m\n\u001b[1;32m    626\u001b[0m             \u001b[0;31m# Here mean_actions are the logits before the softmax\u001b[0m\u001b[0;34m\u001b[0m\u001b[0;34m\u001b[0m\u001b[0;34m\u001b[0m\u001b[0m\n\u001b[0;32m--> 627\u001b[0;31m             \u001b[0;32mreturn\u001b[0m \u001b[0mself\u001b[0m\u001b[0;34m.\u001b[0m\u001b[0maction_dist\u001b[0m\u001b[0;34m.\u001b[0m\u001b[0mproba_distribution\u001b[0m\u001b[0;34m(\u001b[0m\u001b[0maction_logits\u001b[0m\u001b[0;34m=\u001b[0m\u001b[0mmean_actions\u001b[0m\u001b[0;34m)\u001b[0m\u001b[0;34m\u001b[0m\u001b[0;34m\u001b[0m\u001b[0m\n\u001b[0m\u001b[1;32m    628\u001b[0m         \u001b[0;32melif\u001b[0m \u001b[0misinstance\u001b[0m\u001b[0;34m(\u001b[0m\u001b[0mself\u001b[0m\u001b[0;34m.\u001b[0m\u001b[0maction_dist\u001b[0m\u001b[0;34m,\u001b[0m \u001b[0mMultiCategoricalDistribution\u001b[0m\u001b[0;34m)\u001b[0m\u001b[0;34m:\u001b[0m\u001b[0;34m\u001b[0m\u001b[0;34m\u001b[0m\u001b[0m\n\u001b[1;32m    629\u001b[0m             \u001b[0;31m# Here mean_actions are the flattened logits\u001b[0m\u001b[0;34m\u001b[0m\u001b[0;34m\u001b[0m\u001b[0;34m\u001b[0m\u001b[0m\n",
            "\u001b[0;32m/usr/local/lib/python3.7/dist-packages/stable_baselines3/common/distributions.py\u001b[0m in \u001b[0;36mproba_distribution\u001b[0;34m(self, action_logits)\u001b[0m\n\u001b[1;32m    272\u001b[0m \u001b[0;34m\u001b[0m\u001b[0m\n\u001b[1;32m    273\u001b[0m     \u001b[0;32mdef\u001b[0m \u001b[0mproba_distribution\u001b[0m\u001b[0;34m(\u001b[0m\u001b[0mself\u001b[0m\u001b[0;34m,\u001b[0m \u001b[0maction_logits\u001b[0m\u001b[0;34m:\u001b[0m \u001b[0mth\u001b[0m\u001b[0;34m.\u001b[0m\u001b[0mTensor\u001b[0m\u001b[0;34m)\u001b[0m \u001b[0;34m->\u001b[0m \u001b[0;34m\"CategoricalDistribution\"\u001b[0m\u001b[0;34m:\u001b[0m\u001b[0;34m\u001b[0m\u001b[0;34m\u001b[0m\u001b[0m\n\u001b[0;32m--> 274\u001b[0;31m         \u001b[0mself\u001b[0m\u001b[0;34m.\u001b[0m\u001b[0mdistribution\u001b[0m \u001b[0;34m=\u001b[0m \u001b[0mCategorical\u001b[0m\u001b[0;34m(\u001b[0m\u001b[0mlogits\u001b[0m\u001b[0;34m=\u001b[0m\u001b[0maction_logits\u001b[0m\u001b[0;34m)\u001b[0m\u001b[0;34m\u001b[0m\u001b[0;34m\u001b[0m\u001b[0m\n\u001b[0m\u001b[1;32m    275\u001b[0m         \u001b[0;32mreturn\u001b[0m \u001b[0mself\u001b[0m\u001b[0;34m\u001b[0m\u001b[0;34m\u001b[0m\u001b[0m\n\u001b[1;32m    276\u001b[0m \u001b[0;34m\u001b[0m\u001b[0m\n",
            "\u001b[0;32m/usr/local/lib/python3.7/dist-packages/torch/distributions/categorical.py\u001b[0m in \u001b[0;36m__init__\u001b[0;34m(self, probs, logits, validate_args)\u001b[0m\n\u001b[1;32m     58\u001b[0m                 \u001b[0;32mraise\u001b[0m \u001b[0mValueError\u001b[0m\u001b[0;34m(\u001b[0m\u001b[0;34m\"`logits` parameter must be at least one-dimensional.\"\u001b[0m\u001b[0;34m)\u001b[0m\u001b[0;34m\u001b[0m\u001b[0;34m\u001b[0m\u001b[0m\n\u001b[1;32m     59\u001b[0m             \u001b[0;31m# Normalize\u001b[0m\u001b[0;34m\u001b[0m\u001b[0;34m\u001b[0m\u001b[0;34m\u001b[0m\u001b[0m\n\u001b[0;32m---> 60\u001b[0;31m             \u001b[0mself\u001b[0m\u001b[0;34m.\u001b[0m\u001b[0mlogits\u001b[0m \u001b[0;34m=\u001b[0m \u001b[0mlogits\u001b[0m \u001b[0;34m-\u001b[0m \u001b[0mlogits\u001b[0m\u001b[0;34m.\u001b[0m\u001b[0mlogsumexp\u001b[0m\u001b[0;34m(\u001b[0m\u001b[0mdim\u001b[0m\u001b[0;34m=\u001b[0m\u001b[0;34m-\u001b[0m\u001b[0;36m1\u001b[0m\u001b[0;34m,\u001b[0m \u001b[0mkeepdim\u001b[0m\u001b[0;34m=\u001b[0m\u001b[0;32mTrue\u001b[0m\u001b[0;34m)\u001b[0m\u001b[0;34m\u001b[0m\u001b[0;34m\u001b[0m\u001b[0m\n\u001b[0m\u001b[1;32m     61\u001b[0m         \u001b[0mself\u001b[0m\u001b[0;34m.\u001b[0m\u001b[0m_param\u001b[0m \u001b[0;34m=\u001b[0m \u001b[0mself\u001b[0m\u001b[0;34m.\u001b[0m\u001b[0mprobs\u001b[0m \u001b[0;32mif\u001b[0m \u001b[0mprobs\u001b[0m \u001b[0;32mis\u001b[0m \u001b[0;32mnot\u001b[0m \u001b[0;32mNone\u001b[0m \u001b[0;32melse\u001b[0m \u001b[0mself\u001b[0m\u001b[0;34m.\u001b[0m\u001b[0mlogits\u001b[0m\u001b[0;34m\u001b[0m\u001b[0;34m\u001b[0m\u001b[0m\n\u001b[1;32m     62\u001b[0m         \u001b[0mself\u001b[0m\u001b[0;34m.\u001b[0m\u001b[0m_num_events\u001b[0m \u001b[0;34m=\u001b[0m \u001b[0mself\u001b[0m\u001b[0;34m.\u001b[0m\u001b[0m_param\u001b[0m\u001b[0;34m.\u001b[0m\u001b[0msize\u001b[0m\u001b[0;34m(\u001b[0m\u001b[0;34m)\u001b[0m\u001b[0;34m[\u001b[0m\u001b[0;34m-\u001b[0m\u001b[0;36m1\u001b[0m\u001b[0;34m]\u001b[0m\u001b[0;34m\u001b[0m\u001b[0;34m\u001b[0m\u001b[0m\n",
            "\u001b[0;31mKeyboardInterrupt\u001b[0m: "
          ]
        }
      ]
    },
    {
      "cell_type": "code",
      "metadata": {
        "id": "vMR4o-MxfhOM"
      },
      "source": [
        "frames = []\n",
        "episodes = 1\n",
        "for episode in range(1, episodes+1):\n",
        "    obs = env.reset()     # Retorna a observação inicial\n",
        "    done = False\n",
        "    score = 0\n",
        "    while not done:\n",
        "        frames.append(env.render(mode='rgb_array'))         # Renderizando o ambiente\n",
        "        action = expert.predict(obs, deterministic=True)    # Seleciona uma ação do agente especialista\n",
        "        obs, reward, done, info = env.step(action)          # Executa a ação selecionada\n",
        "        score += reward\n",
        "    print(\"\\n\\nEpisódio: {} Pontuação: {}\".format(episode,score))\n",
        "env.close()\n",
        "\n",
        "display.HTML(display_anim(frames))\n"
      ],
      "execution_count": null,
      "outputs": []
    },
    {
      "cell_type": "markdown",
      "metadata": {
        "id": "93-BHhi5CKI6"
      },
      "source": [
        "Agora, deixamos nosso especialista interagir com o ambiente e armazenar as observações e ações de especialistas resultantes para construir um conjunto de dados."
      ]
    },
    {
      "cell_type": "code",
      "metadata": {
        "id": "W2tziC8Yr2Rd"
      },
      "source": [
        "from tqdm import tqdm"
      ],
      "execution_count": 12,
      "outputs": []
    },
    {
      "cell_type": "code",
      "metadata": {
        "id": "uXjvoWS9CANk"
      },
      "source": [
        "num_interactions = int(4e4)"
      ],
      "execution_count": 13,
      "outputs": []
    },
    {
      "cell_type": "code",
      "metadata": {
        "id": "QSZCmJ6yCM2y",
        "colab": {
          "base_uri": "https://localhost:8080/"
        },
        "outputId": "2b132f70-b7fd-4b9c-8139-a78e385b65be"
      },
      "source": [
        "if isinstance(env.action_space, gym.spaces.Box):\n",
        "    expert_observations = np.empty((num_interactions,) + env.observation_space.shape)\n",
        "    expert_actions = np.empty((num_interactions,) + (env.action_space.shape[0],))\n",
        "else:\n",
        "    expert_observations = np.empty((num_interactions,) + env.observation_space.shape)\n",
        "    expert_actions = np.empty((num_interactions,) + env.action_space.shape)\n",
        "\n",
        "\n",
        "# HW: Interaja  com o ambiente `env` conforme visto anteriormente. Armazene \n",
        "# as observações e as ações do especialista em `expert_observations` e \n",
        "# `expert_actions` respectivamente para construir o dataset\n",
        "frames = []\n",
        "episodes = 1\n",
        "i = 0\n",
        "while num_interactions > i:\n",
        "\n",
        "    obs = env.reset()                                       # Retorna a observação inicial\n",
        "    done = False\n",
        "    score = 0\n",
        "    while not done and num_interactions > i:\n",
        "       # frames.append(env.render(mode='rgb_array'))        # Renderizando o ambiente sobrecarregava o ram do colab\n",
        "        action = expert.predict(obs, deterministic=True)    # Seleciona uma ação do agente especialista\n",
        "        expert_observations[i] = obs\n",
        "        expert_actions[i] = action[0][0]\n",
        "        obs, reward, done, info = env.step(action)          # Executa a ação selecionada\n",
        "        score += reward\n",
        "        i+=1\n",
        "    print(\"\\n\\nEpisódio: {} Pontuação: {}\".format(episodes,score))\n",
        "    episodes += 1\n",
        "env.close()\n",
        "\n",
        "# Salva os dados (observação, ação)\n",
        "np.savez_compressed(\n",
        "    \"minicurso_rl/expert_data\",\n",
        "    expert_actions=expert_actions,\n",
        "    expert_observations=expert_observations,\n",
        ")"
      ],
      "execution_count": 14,
      "outputs": [
        {
          "output_type": "stream",
          "name": "stdout",
          "text": [
            "\n",
            "\n",
            "Episódio: 1 Pontuação: [1081.]\n",
            "\n",
            "\n",
            "Episódio: 2 Pontuação: [1297.]\n",
            "\n",
            "\n",
            "Episódio: 3 Pontuação: [762.]\n",
            "\n",
            "\n",
            "Episódio: 4 Pontuação: [6.]\n"
          ]
        }
      ]
    },
    {
      "cell_type": "code",
      "metadata": {
        "id": "sOLqZD7ggqkv"
      },
      "source": [
        "try:\n",
        "    expert_observations, expert_actions\n",
        "except NameError:\n",
        "    pass\n",
        "else:\n",
        "  del expert_observations, expert_actions\n",
        "\n",
        "\n",
        "# Carrega os dados salvos\n",
        "data = np.load(\"minicurso_rl/expert_data.npz\")"
      ],
      "execution_count": 15,
      "outputs": []
    },
    {
      "cell_type": "markdown",
      "metadata": {
        "id": "iMFddIRoLuCd"
      },
      "source": [
        "- Para usar perfeitamente o PyTorch no processo de treinamento, criamos uma subclasse de `ExpertDataset` do `Dataset` base do Pytorch\n",
        "- Observe que inicializamos o conjunto de dados com as observações e ações de especialistas geradas anteriormente.\n",
        "- Implementamos ainda as [funções mágicas](https://rszalski.github.io/magicmethods/) `__getitem__` e` __len__` do Python para permitir que o manuseio do conjunto de dados do PyTorch acesse linhas arbitrárias no conjunto de dados e informá-lo sobre o comprimento do conjunto de dados.\n",
        "- Para obter mais informações sobre os conjuntos de dados de PyTorch, você pode ler: https://pytorch.org/docs/stable/data.html."
      ]
    },
    {
      "cell_type": "code",
      "metadata": {
        "id": "N33dTfs8MADf"
      },
      "source": [
        "from torch.utils.data.dataset import Dataset, random_split"
      ],
      "execution_count": 16,
      "outputs": []
    },
    {
      "cell_type": "code",
      "metadata": {
        "id": "aLuZoKujMFKB"
      },
      "source": [
        "class ExpertDataSet(Dataset):\n",
        "    def __init__(self, expert_observations, expert_actions):\n",
        "        self.observations = expert_observations\n",
        "        self.actions = expert_actions\n",
        "        \n",
        "    def __getitem__(self, index):\n",
        "        return (self.observations[index], self.actions[index])\n",
        "\n",
        "    def __len__(self):\n",
        "        return len(self.observations)"
      ],
      "execution_count": 17,
      "outputs": []
    },
    {
      "cell_type": "markdown",
      "metadata": {
        "id": "EGLryFyMMJjF"
      },
      "source": [
        "Agora instanciamos o `ExpertDataSet` e o dividimos em conjuntos de dados de treinamento e teste."
      ]
    },
    {
      "cell_type": "code",
      "metadata": {
        "id": "Ve60YhwzMHfK"
      },
      "source": [
        "expert_dataset = ExpertDataSet(data[\"expert_observations\"], data[\"expert_actions\"])\n",
        "\n",
        "del data\n",
        "\n",
        "train_size = int(0.8 * len(expert_dataset))     # 80% dos dados para treinamento\n",
        "test_size = len(expert_dataset) - train_size    # E o restante dos dados para teste\n",
        "\n",
        "train_expert_dataset, test_expert_dataset = random_split(\n",
        "    expert_dataset, [train_size, test_size]\n",
        ")"
      ],
      "execution_count": 18,
      "outputs": []
    },
    {
      "cell_type": "code",
      "metadata": {
        "id": "VMqxQ3YZMaXW",
        "colab": {
          "base_uri": "https://localhost:8080/"
        },
        "outputId": "a9fb8bc3-f120-4d76-ee20-be7e58c57574"
      },
      "source": [
        "print(\"# test_expert_dataset: \", len(test_expert_dataset))\n",
        "print(\"# train_expert_dataset: \", len(train_expert_dataset))"
      ],
      "execution_count": 19,
      "outputs": [
        {
          "output_type": "stream",
          "name": "stdout",
          "text": [
            "# test_expert_dataset:  8000\n",
            "# train_expert_dataset:  32000\n"
          ]
        }
      ]
    },
    {
      "cell_type": "markdown",
      "metadata": {
        "id": "qzMyjklbCArD"
      },
      "source": [
        "# Treinar o agente estudante"
      ]
    },
    {
      "cell_type": "markdown",
      "metadata": {
        "id": "JP5nBNn1MkvP"
      },
      "source": [
        "Nossos próximos passos:\n",
        "\n",
        "1. Extraímos a rede de políticas de nosso aluno.\n",
        "2. Carregamos o conjunto de dados de especialistas (rotulados) contendo observações de especialistas como entradas e ações de especialistas como alvos.\n",
        "3. Realizamos aprendizagem supervisionada, ou seja, ajustamos os parâmetros da rede de políticas de forma que, dadas as observações de especialistas como entradas para a rede, suas saídas correspondam aos alvos (ações de especialistas).\n",
        "\n",
        "\n",
        "Ao treinar a rede de políticas dessa maneira, o agente aluno correspondente é ensinado a se comportar como o agente especialista que foi usado para criar o conjunto de dados especialista (Behavior Cloning)."
      ]
    },
    {
      "cell_type": "code",
      "metadata": {
        "id": "e5d_C46gu8Yp"
      },
      "source": [
        "import torch.nn as nn\n",
        "import torch.optim as optim\n",
        "import torch.nn.functional as F\n",
        "from torch.distributions.categorical import Categorical\n",
        "from torch.optim.lr_scheduler import StepLR"
      ],
      "execution_count": 20,
      "outputs": []
    },
    {
      "cell_type": "code",
      "metadata": {
        "id": "LG0oRMriPWxX"
      },
      "source": [
        "# \n",
        "\n",
        "batch_size=128\n",
        "epochs=20\n",
        "scheduler_gamma=0.99\n",
        "learning_rate=5e-3\n",
        "log_interval=100\n",
        "no_cuda=False    \n",
        "seed=1\n",
        "test_batch_size=128\n"
      ],
      "execution_count": 21,
      "outputs": []
    },
    {
      "cell_type": "code",
      "metadata": {
        "id": "GO1OG1uTPoNL"
      },
      "source": [
        "use_cuda = not no_cuda and torch.cuda.is_available()\n",
        "torch.manual_seed(seed)\n",
        "device = torch.device(\"cuda\" if use_cuda else \"cpu\")\n",
        "kwargs = {\"num_workers\": 1, \"pin_memory\": True} if use_cuda else {}\n"
      ],
      "execution_count": 22,
      "outputs": []
    },
    {
      "cell_type": "markdown",
      "metadata": {
        "id": "W7mj915v_IJm"
      },
      "source": [
        "Agora iremos definir a rede neural que iremos utilizar para o aluno estudante. Aqui criamos um agente de aprendizado por reforço, e extraimos dele a rede da política. Alternativamente você pode construir a sua própria rede neural.\n",
        "\n",
        "Como estamos utilizando imagens como entrada, iremos utilizar uma rede chamada de Rede Neural Convolucional (Convolutional Neural Network - CNN).\n",
        "\n",
        "<br>\n",
        "\n",
        "- https://towardsdatascience.com/pytorch-basics-how-to-train-your-neural-net-intro-to-cnn-26a14c2ea29\n",
        "\n",
        "- https://medium.com/swlh/introduction-to-cnn-image-classification-using-cnn-in-pytorch-11eefae6d83c\n",
        "\n",
        "- https://www.analyticsvidhya.com/blog/2019/10/building-image-classification-models-cnn-pytorch/\n"
      ]
    },
    {
      "cell_type": "code",
      "metadata": {
        "id": "39sT4rgBPslk",
        "colab": {
          "base_uri": "https://localhost:8080/"
        },
        "outputId": "e46a7bf2-a1de-4a73-d5f0-7957ba91d802"
      },
      "source": [
        "from torchsummary import summary\n",
        "\n",
        "student = PPO('CnnPolicy', env, verbose=1)\n",
        "\n",
        "# Extrair politica inicial\n",
        "model = student.policy.to(device)\n",
        "\n",
        "# Mostra um sumário da rede, mostrando todas as suas camadas \n",
        "summary(model, (4, 84, 84))"
      ],
      "execution_count": 23,
      "outputs": [
        {
          "output_type": "stream",
          "name": "stdout",
          "text": [
            "Using cuda device\n",
            "Wrapping the env in a VecTransposeImage.\n",
            "----------------------------------------------------------------\n",
            "        Layer (type)               Output Shape         Param #\n",
            "================================================================\n",
            "            Conv2d-1           [-1, 32, 20, 20]           8,224\n",
            "              ReLU-2           [-1, 32, 20, 20]               0\n",
            "            Conv2d-3             [-1, 64, 9, 9]          32,832\n",
            "              ReLU-4             [-1, 64, 9, 9]               0\n",
            "            Conv2d-5             [-1, 64, 7, 7]          36,928\n",
            "              ReLU-6             [-1, 64, 7, 7]               0\n",
            "           Flatten-7                 [-1, 3136]               0\n",
            "            Linear-8                  [-1, 512]       1,606,144\n",
            "              ReLU-9                  [-1, 512]               0\n",
            "        NatureCNN-10                  [-1, 512]               0\n",
            "     MlpExtractor-11     [[-1, 512], [-1, 512]]               0\n",
            "           Linear-12                    [-1, 1]             513\n",
            "           Linear-13                    [-1, 9]           4,617\n",
            "================================================================\n",
            "Total params: 1,689,258\n",
            "Trainable params: 1,689,258\n",
            "Non-trainable params: 0\n",
            "----------------------------------------------------------------\n",
            "Input size (MB): 0.11\n",
            "Forward/backward pass size (MB): 1.64\n",
            "Params size (MB): 6.44\n",
            "Estimated Total Size (MB): 8.19\n",
            "----------------------------------------------------------------\n"
          ]
        }
      ]
    },
    {
      "cell_type": "markdown",
      "metadata": {
        "id": "36xmtUnNPyy0"
      },
      "source": [
        "Como visto em aula, queremos minimizar a diferença entre a resposta correta e a resposta do modelo. A primeira tarefa é, portanto, definir um critério que mede o erro entre cada elemento na entrada x e no destino y.\n",
        "\n",
        "Aqui precisamos nos atentar em alguns pontos. \n",
        "\n",
        "Box e Discrete são os dois tipos de espaço mais comumente usados para representar os espaços de Observação e Ação em ambientes do Gym. \n",
        "\n",
        "- Box: Uma caixa dimensional, onde cada coordenada fica entre um limite definido por [baixo, alto]\n",
        "- Discrete: O espaço consiste em n pontos distintos, cada um mapeado para um valor inteiro no intervalo [0, n-1]\n",
        "\n",
        "\n",
        "No caso do ambiente Enduro,as ações são discretas, onde será selecionado um valor entre 0 e n-1 para ser aplicado ao ambiente.\n",
        "\n",
        "As saídas da rede é uma lista de probabilidade de selecionar cada uma dessas ações. Iremos executar a ação com a maior probabilidade dada pela rede.\n",
        "\n",
        "<img src='https://drive.google.com/uc?id=1KEBtAKI5kOAC7PfcK3SRQIdE1sQwmAza' width=\"550\" height=\"180\">\n",
        "\n",
        "Como iremos definir o erro da entrada e do destino?\n",
        "\n",
        "O que queremos minimizar é a distância entre duas distribuições de probabilidade - prevista e real.\n",
        "\n",
        "Considere um classificador que prediz se um dado animal é um cão, gato ou cavalo com uma probabilidade associada a cada um. \n",
        "\n",
        "Suponha que a imagem original seja de um cachorro e o modelo preveja 0.2, 0.7, 0.1 como probabilidade para três classes em que as probabilidades verdadeiras se parecem com 1, 0, 0. O que desejamos idealmente é que nossas probabilidades previstas sejam próximas às originais. Portanto, precisamos nos certificar de que estamos minimizando a diferença entre as duas probabilidades.\n",
        "\n",
        "Para isso temos uma loss chamada de Cross-Entropy que nos ajuda a calcular essa diferença. Veja mais em: https://towardsdatascience.com/cross-entropy-loss-function-f38c4ec8643e"
      ]
    },
    {
      "cell_type": "code",
      "metadata": {
        "id": "p5pDD8T3WAF-",
        "colab": {
          "base_uri": "https://localhost:8080/"
        },
        "outputId": "b65d4706-e54e-4dd9-cf9b-7e27c40e8a5c"
      },
      "source": [
        "nb_actions = env.action_space.n\n",
        "print(\"O número total de ações possíveis é: \", nb_actions)"
      ],
      "execution_count": 24,
      "outputs": [
        {
          "output_type": "stream",
          "name": "stdout",
          "text": [
            "O número total de ações possíveis é:  9\n"
          ]
        }
      ]
    },
    {
      "cell_type": "code",
      "metadata": {
        "id": "fzYyTCZTPpgp"
      },
      "source": [
        "# HW: Implementar função de Loss\n",
        "def lossfunc(model_out, true_out):\n",
        "    a_prob = model_out*true_out\n",
        "    return -torch.log(a_prob.sum(1)).mean()"
      ],
      "execution_count": 25,
      "outputs": []
    },
    {
      "cell_type": "code",
      "metadata": {
        "id": "UIQ8IB4dbOH9"
      },
      "source": [
        "# HW: Implementar função de Acurácia\n",
        "\n",
        "def acc(model_out, true_out):\n",
        "    model_a = model_out.argmax(1)\n",
        "    true_a = true_out.argmax(1)\n",
        "    return torch.sum(model_a == true_a)"
      ],
      "execution_count": 26,
      "outputs": []
    },
    {
      "cell_type": "code",
      "metadata": {
        "id": "OtAIxZyPQ16h"
      },
      "source": [
        "# HW: Implementar função de Treino\n",
        "# ela deve retornar informações de loss e acurácia\n",
        "\n",
        "# não consegui\n"
        "def train():\n",
        "  model = model.train()\n",
        "  for epoch in range(50):\n",
        "    \n",
        "    x, y = collect_dataset(100000)\n",
        "    m = model(x)\n",
        "    loss = lossfunc(m, y)\n",
        "    optimizer.zero_grad()\n",
        "    loss.backward()\n",
        "\n",
        "    optimizer.step()\n",
        "\n",
        "    _acc = acc(m, y)/100000\n",
        "\n",
        "    _loss = loss.detach().item()\n",
        "    print('Epoch: %d | Loss: %.4f | Train Accuracy: %.4f' \\\n",
        "          %(epoch, _loss, _acc))\n",
        "    return _loss, _acc"
      ],
      "execution_count": 27,
      "outputs": []
    },
    {
      "cell_type": "code",
      "metadata": {
        "id": "YyZmHN9wRMHW"
      },
      "source": [
        "def test():\n",
        "    _loss = 0.0\n",
        "    _acc = 0.0\n",
        "\n",
        "    model.eval()\n",
        "    with torch.no_grad():\n",
        "        for data, target in test_loader:\n",
        "            data = data.permute(0, 3, 1, 2)\n",
        "            data, target = data.to(device), target.to(device)\n",
        "\n",
        "            if isinstance(env.action_space, gym.spaces.Box):\n",
        "                # A2C/PPO policy outputs actions, values, log_prob\n",
        "                action, _, _ = model(data)\n",
        "                action_prediction = action.double()\n",
        "            else:\n",
        "                # Retrieve the logits for A2C/PPO when using discrete actions\n",
        "                latent_pi, _, _ = model._get_latent(data)\n",
        "                logits = model.action_net(latent_pi)\n",
        "                action_prediction = logits\n",
        "                target = target.long()\n",
        "            \n",
        "            test_loss = criterion(action_prediction, target)\n",
        "\n",
        "            _loss += test_loss.data.cpu().numpy()\n",
        "            _acc += acc(action_prediction, target).data.cpu().numpy()\n",
        "\n",
        "    _loss /= float(len(test_loader.dataset))\n",
        "    _acc /= float(len(test_loader.dataset))\n",
        "    print(f\"Conjunto de Teste: Loss {_loss:.4f} \\tAccuracy {_acc*100:.2f} %\")\n",
        "    return _loss, _acc    "
      ],
      "execution_count": 28,
      "outputs": []
    },
    {
      "cell_type": "markdown",
      "metadata": {
        "id": "kT6wY7mZR3t9"
      },
      "source": [
        "Avalie o agente antes do treinamento (seu comportamento deve ser aleatório)"
      ]
    },
    {
      "cell_type": "code",
      "metadata": {
        "id": "48urm-5TR2yX"
      },
      "source": [
        "mean_reward, std_reward = evaluate_policy(student, env, n_eval_episodes=10)\n",
        "print(f\"Recompensa média = {mean_reward} +/- {std_reward}\")"
      ],
      "execution_count": null,
      "outputs": []
    },
    {
      "cell_type": "code",
      "metadata": {
        "id": "1Fg10lrfRTuF"
      },
      "source": [
        "# Aqui, usamos PyTorch `DataLoader` para carregar o` ExpertDataset` criado anteriormente para treinamento e teste\n",
        "train_loader = torch.utils.data.DataLoader(\n",
        "    dataset=train_expert_dataset, batch_size=batch_size, shuffle=True, **kwargs\n",
        ")\n",
        "test_loader = torch.utils.data.DataLoader(\n",
        "    dataset=test_expert_dataset, batch_size=test_batch_size, shuffle=True, **kwargs,\n",
        ")\n",
        "\n",
        "# Defina um Otimizador e uma programação de taxa de aprendizagem (learning rate).\n",
        "optimizer = optim.Adam(model.parameters(), lr=learning_rate)\n",
        "scheduler = StepLR(optimizer, step_size=1, gamma=scheduler_gamma)"
      ],
      "execution_count": 30,
      "outputs": []
    },
    {
      "cell_type": "markdown",
      "metadata": {
        "id": "Ve8D386FSZU0"
      },
      "source": [
        "Tendo definido o procedimento de treinamento, podemos agora executar o treinamento!"
      ]
    },
    {
      "cell_type": "code",
      "metadata": {
        "id": "oAiOxXLnSfIG",
        "colab": {
          "base_uri": "https://localhost:8080/",
          "height": 421
        },
        "outputId": "057afce4-00b7-4bb0-d151-4a72f196fd4f"
      },
      "source": [
        "# Agora estamos finalmente prontos para treinar o modelo de política.\n",
        "train_loss, train_acc = [], []\n",
        "test_loss, test_acc = [], []\n",
        "_learning_rate = []\n",
        "\n",
        "for epoch in range(1, epochs + 1):\n",
        "    _learning_rate.append(scheduler.get_lr()[0])\n",
        "    print(\"learning rate: \", scheduler.get_lr()[0])\n",
        "\n",
        "    _train_loss, _train_acc = train()\n",
        "    _test_loss, _test_acc = test()\n",
        "\n",
        "    train_loss.append(_train_loss)\n",
        "    train_acc.append(_train_acc)\n",
        "    test_loss.append(_test_loss)\n",
        "    test_acc.append(_test_acc)\n",
        "    \n",
        "    scheduler.step()"
      ],
      "execution_count": 31,
      "outputs": [
        {
          "output_type": "stream",
          "name": "stderr",
          "text": [
            "/usr/local/lib/python3.7/dist-packages/torch/optim/lr_scheduler.py:370: UserWarning: To get the last learning rate computed by the scheduler, please use `get_last_lr()`.\n",
            "  \"please use `get_last_lr()`.\", UserWarning)\n"
          ]
        },
        {
          "output_type": "stream",
          "name": "stdout",
          "text": [
            "learning rate:  0.005\n"
          ]
        },
        {
          "output_type": "error",
          "ename": "UnboundLocalError",
          "evalue": "ignored",
          "traceback": [
            "\u001b[0;31m---------------------------------------------------------------------------\u001b[0m",
            "\u001b[0;31mUnboundLocalError\u001b[0m                         Traceback (most recent call last)",
            "\u001b[0;32m<ipython-input-31-51052325a8b9>\u001b[0m in \u001b[0;36m<module>\u001b[0;34m()\u001b[0m\n\u001b[1;32m      8\u001b[0m     \u001b[0mprint\u001b[0m\u001b[0;34m(\u001b[0m\u001b[0;34m\"learning rate: \"\u001b[0m\u001b[0;34m,\u001b[0m \u001b[0mscheduler\u001b[0m\u001b[0;34m.\u001b[0m\u001b[0mget_lr\u001b[0m\u001b[0;34m(\u001b[0m\u001b[0;34m)\u001b[0m\u001b[0;34m[\u001b[0m\u001b[0;36m0\u001b[0m\u001b[0;34m]\u001b[0m\u001b[0;34m)\u001b[0m\u001b[0;34m\u001b[0m\u001b[0;34m\u001b[0m\u001b[0m\n\u001b[1;32m      9\u001b[0m \u001b[0;34m\u001b[0m\u001b[0m\n\u001b[0;32m---> 10\u001b[0;31m     \u001b[0m_train_loss\u001b[0m\u001b[0;34m,\u001b[0m \u001b[0m_train_acc\u001b[0m \u001b[0;34m=\u001b[0m \u001b[0mtrain\u001b[0m\u001b[0;34m(\u001b[0m\u001b[0;34m)\u001b[0m\u001b[0;34m\u001b[0m\u001b[0;34m\u001b[0m\u001b[0m\n\u001b[0m\u001b[1;32m     11\u001b[0m     \u001b[0m_test_loss\u001b[0m\u001b[0;34m,\u001b[0m \u001b[0m_test_acc\u001b[0m \u001b[0;34m=\u001b[0m \u001b[0mtest\u001b[0m\u001b[0;34m(\u001b[0m\u001b[0;34m)\u001b[0m\u001b[0;34m\u001b[0m\u001b[0;34m\u001b[0m\u001b[0m\n\u001b[1;32m     12\u001b[0m \u001b[0;34m\u001b[0m\u001b[0m\n",
            "\u001b[0;32m<ipython-input-27-ec8db76c774d>\u001b[0m in \u001b[0;36mtrain\u001b[0;34m()\u001b[0m\n\u001b[1;32m      3\u001b[0m \u001b[0;34m\u001b[0m\u001b[0m\n\u001b[1;32m      4\u001b[0m \u001b[0;32mdef\u001b[0m \u001b[0mtrain\u001b[0m\u001b[0;34m(\u001b[0m\u001b[0;34m)\u001b[0m\u001b[0;34m:\u001b[0m\u001b[0;34m\u001b[0m\u001b[0;34m\u001b[0m\u001b[0m\n\u001b[0;32m----> 5\u001b[0;31m   \u001b[0mmodel\u001b[0m \u001b[0;34m=\u001b[0m \u001b[0mmodel\u001b[0m\u001b[0;34m.\u001b[0m\u001b[0mtrain\u001b[0m\u001b[0;34m(\u001b[0m\u001b[0;34m)\u001b[0m\u001b[0;34m\u001b[0m\u001b[0;34m\u001b[0m\u001b[0m\n\u001b[0m\u001b[1;32m      6\u001b[0m   \u001b[0;32mfor\u001b[0m \u001b[0mepoch\u001b[0m \u001b[0;32min\u001b[0m \u001b[0mrange\u001b[0m\u001b[0;34m(\u001b[0m\u001b[0;36m50\u001b[0m\u001b[0;34m)\u001b[0m\u001b[0;34m:\u001b[0m\u001b[0;34m\u001b[0m\u001b[0;34m\u001b[0m\u001b[0m\n\u001b[1;32m      7\u001b[0m \u001b[0;34m\u001b[0m\u001b[0m\n",
            "\u001b[0;31mUnboundLocalError\u001b[0m: local variable 'model' referenced before assignment"
          ]
        }
      ]
    },
    {
      "cell_type": "code",
      "metadata": {
        "id": "nOgkr-fPfwxH"
      },
      "source": [
        "import plotly.graph_objs as go"
      ],
      "execution_count": null,
      "outputs": []
    },
    {
      "cell_type": "code",
      "metadata": {
        "id": "JqF2CXC3efs9"
      },
      "source": [
        "fig = go.Figure([\n",
        "    go.Scatter(\n",
        "        y=train_acc,\n",
        "        x=[ep for ep in range(1, epochs + 1)],\n",
        "        mode='lines',\n",
        "        name=\"Acurácia de Treino\"\n",
        "    ),\n",
        "    go.Scatter(\n",
        "        y=test_acc,\n",
        "        x=[ep for ep in range(1, epochs + 1)],\n",
        "        mode='lines',\n",
        "        name=\"Acurácia de Teste\"\n",
        "    ),\n",
        "])\n",
        "fig.update_layout(\n",
        "    title=\"Acurácia\",\n",
        "    yaxis = dict(\n",
        "        tickformat = \"%\",\n",
        "    ),\n",
        "    xaxis = dict(\n",
        "        title = \"Época\",\n",
        "    )\n",
        ")\n",
        "fig.show()"
      ],
      "execution_count": null,
      "outputs": []
    },
    {
      "cell_type": "code",
      "metadata": {
        "id": "LVjBiRiZfu2A"
      },
      "source": [
        "fig = go.Figure([\n",
        "    go.Scatter(\n",
        "        y=train_loss,\n",
        "        x=[ep for ep in range(1, epochs + 1)],\n",
        "        mode='lines',\n",
        "        name=\"Loss de Treinamento\"\n",
        "    ),\n",
        "    go.Scatter(\n",
        "        y=test_loss,\n",
        "        x=[ep for ep in range(1, epochs + 1)],\n",
        "        mode='lines',\n",
        "        name=\"Loss de Teste\"\n",
        "    ),\n",
        "])\n",
        "fig.update_layout(\n",
        "    title=\"Loss\",\n",
        "    xaxis = dict(title=\"Época\")\n",
        ")\n",
        "fig.show()"
      ],
      "execution_count": null,
      "outputs": []
    },
    {
      "cell_type": "code",
      "metadata": {
        "id": "S_bpFhUeSZvy"
      },
      "source": [
        "fig = go.Figure([\n",
        "    go.Scatter(\n",
        "        y=_learning_rate,\n",
        "        x=[ep for ep in range(1, epochs + 1)],\n",
        "        mode='lines',\n",
        "        name=\"Learning Rate\"\n",
        "    ),\n",
        "])\n",
        "fig.update_layout(\n",
        "    title=\"Learning Rate\",\n",
        "    xaxis = dict(title=\"Época\")\n",
        ")\n",
        "fig.show()"
      ],
      "execution_count": null,
      "outputs": []
    },
    {
      "cell_type": "markdown",
      "metadata": {
        "id": "ivn_FUPTSTA4"
      },
      "source": [
        "Finalmente, vamos testar o quão bem nosso aluno aprendeu a imitar o comportamento do especialista"
      ]
    },
    {
      "cell_type": "code",
      "metadata": {
        "id": "BuCpdvyxeG5A"
      },
      "source": [
        "# Inserir a rede treinada de volta no agente estudante\n",
        "student.policy = model"
      ],
      "execution_count": null,
      "outputs": []
    },
    {
      "cell_type": "code",
      "metadata": {
        "id": "jo_D5XuPMjMp"
      },
      "source": [
        "mean_reward, std_reward = evaluate_policy(student, env, n_eval_episodes=10)\n",
        "\n",
        "print(f\"Mean reward = {mean_reward} +/- {std_reward}\")"
      ],
      "execution_count": null,
      "outputs": []
    },
    {
      "cell_type": "code",
      "metadata": {
        "id": "lBTDrSJg6m7v"
      },
      "source": [
        "frames = []\n",
        "episodes = 1\n",
        "for episode in range(1, episodes+1):\n",
        "    obs = env.reset()     \n",
        "    done = False\n",
        "    score = 0\n",
        "    while not done:\n",
        "        frames.append(env.render(mode='rgb_array'))           \n",
        "        action = student.predict(obs, deterministic=True)   \n",
        "        obs, reward, done, info = env.step(action)       \n",
        "        score += reward\n",
        "    print(\"\\n\\nEpisódio: {} Pontuação: {}\".format(episode,score))\n",
        "env.close()"
      ],
      "execution_count": null,
      "outputs": []
    },
    {
      "cell_type": "code",
      "metadata": {
        "id": "7Ip8jLMAK5_3"
      },
      "source": [
        "display.HTML(display_anim(frames))"
      ],
      "execution_count": null,
      "outputs": []
    },
    {
      "cell_type": "markdown",
      "metadata": {
        "id": "ivURRR0sbxgr"
      },
      "source": [
        "# Bônus\n",
        "\n",
        "O algoritimo Dagger é um algoritimo interativo que aproxima as distribuições de trajetórias de alunos e especialistas ao rotular pontos de dados adicionais resultantes da aplicação da política atual.\n",
        "\n",
        "Em sua forma mais simples, o algoritmo procede da seguinte maneira. Na primeira iteração, ele usa a política do especialista para reunir um conjunto de dados de trajetórias $D$ e treinar uma política $\\pi_{2}$ que melhor imita o especialista nessas trajetórias. Então, na iteração $n$, ele usa $\\pi_{n}$ para coletar mais trajetórias e adiciona essas trajetórias ao conjunto de dados $D$. A próxima política $\\pi_{n+1}$ é a que melhor imita o especialista em todo o conjunto de dados $D$.\n",
        "\n",
        "É como se a cada passo, perguntássemos ao especialista sua opinião sobre nossa trajetória atual. Em seguida, reunindo esta opinião (sua resposta aos estados que encontramos) e os conjuntos de dados anteriores de trajetórias,\n",
        "podemos treinar uma nova política mais precisa porque estamos levando em consideração a opinião de mais especialistas.\n",
        "\n",
        "<br>\n",
        "\n",
        "Algoritmo [Dagger](http://proceedings.mlr.press/v15/ross11a/ross11a.pdf):\n",
        "\n",
        "<img src='https://drive.google.com/uc?id=1rMERL80AGmDRR0fKVfq0KjhJjGPt4YKt' width=\"450\" height=\"250\">\n",
        "\n",
        "\n",
        "A tarefa bônus consistirá em implementar o algoritmo Dagger.\n"
      ]
    }
  ]
}
